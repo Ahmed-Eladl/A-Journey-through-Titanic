{
  "cells": [
    {
      "cell_type": "markdown",
      "metadata": {
        "id": "view-in-github",
        "colab_type": "text"
      },
      "source": [
        "<a href=\"https://colab.research.google.com/github/Ahmed-Eladl/A-Journey-through-Titanic/blob/main/Regression_Car_Price_Prediction.ipynb\" target=\"_parent\"><img src=\"https://colab.research.google.com/assets/colab-badge.svg\" alt=\"Open In Colab\"/></a>"
      ]
    },
    {
      "cell_type": "markdown",
      "source": [
        "**Learn Machine Learning by Projects** : Based on ML Bookcamp \n",
        "\n",
        "[The book](https://www.manning.com/books/machine-learning-bookcamp?a_aid=AGMLBookcamp&a_bid=2eb9ca01) , [Original Repo]( https://github.com/alexeygrigorev/mlbookcamp-code )\n",
        "\n",
        "<img src=\"https://images.manning.com/360/480/resize/book/d/f91ead8-e9eb-412e-8f75-5f2d7f588e67/Grigorev-MLB-HI.png\" width=\"200\">\n",
        "\n",
        "\n"
      ],
      "metadata": {
        "id": "bVP8Om5bFYs1"
      }
    },
    {
      "cell_type": "markdown",
      "source": [
        "# Reading Data"
      ],
      "metadata": {
        "id": "OPnAKv5VK5aI"
      }
    },
    {
      "cell_type": "code",
      "source": [
        "!git clone https://github.com/alexeygrigorev/mlbookcamp-code"
      ],
      "metadata": {
        "colab": {
          "base_uri": "https://localhost:8080/"
        },
        "id": "gMNJLzoyE8F0",
        "outputId": "b1005b6a-897f-4d47-d8ca-5e919dec528b"
      },
      "execution_count": 1,
      "outputs": [
        {
          "output_type": "stream",
          "name": "stdout",
          "text": [
            "Cloning into 'mlbookcamp-code'...\n",
            "remote: Enumerating objects: 3730, done.\u001b[K\n",
            "remote: Counting objects: 100% (409/409), done.\u001b[K\n",
            "remote: Compressing objects: 100% (238/238), done.\u001b[K\n",
            "remote: Total 3730 (delta 223), reused 328 (delta 161), pack-reused 3321\u001b[K\n",
            "Receiving objects: 100% (3730/3730), 8.26 MiB | 37.26 MiB/s, done.\n",
            "Resolving deltas: 100% (2235/2235), done.\n"
          ]
        }
      ]
    },
    {
      "cell_type": "code",
      "execution_count": 2,
      "metadata": {
        "id": "O161entbEr2x",
        "outputId": "d41893c7-9db2-4c60-c93a-253f41535e53",
        "colab": {
          "base_uri": "https://localhost:8080/"
        }
      },
      "outputs": [
        {
          "output_type": "stream",
          "name": "stdout",
          "text": [
            "Looking in indexes: https://pypi.org/simple, https://us-python.pkg.dev/colab-wheels/public/simple/\n",
            "Requirement already satisfied: xgboost in /usr/local/lib/python3.7/dist-packages (0.90)\n",
            "Requirement already satisfied: numpy in /usr/local/lib/python3.7/dist-packages (from xgboost) (1.21.6)\n",
            "Requirement already satisfied: scipy in /usr/local/lib/python3.7/dist-packages (from xgboost) (1.7.3)\n"
          ]
        }
      ],
      "source": [
        "import numpy as np\n",
        "import pandas as pd\n",
        "import matplotlib.pyplot as plt\n",
        "import seaborn as sns\n",
        "\n",
        "sns.set()\n",
        "%matplotlib inline\n",
        "\n",
        "\n",
        "import warnings\n",
        "warnings.filterwarnings('always')\n",
        "warnings.filterwarnings('ignore')\n",
        "\n",
        "\n",
        "\n",
        "from sklearn.preprocessing import LabelEncoder\n",
        "from sklearn.model_selection import train_test_split\n",
        "import sys\n",
        "!{sys.executable} -m pip install xgboost\n",
        "from xgboost import XGBRegressor\n",
        "from sklearn.linear_model import LinearRegression\n",
        "from sklearn.ensemble import RandomForestRegressor\n",
        "from sklearn import metrics"
      ]
    },
    {
      "cell_type": "code",
      "execution_count": 3,
      "metadata": {
        "colab": {
          "base_uri": "https://localhost:8080/"
        },
        "id": "muHkfYZGEr20",
        "outputId": "58db0a32-c45d-4c44-e085-86a715ca2ddd"
      },
      "outputs": [
        {
          "output_type": "execute_result",
          "data": {
            "text/plain": [
              "11914"
            ]
          },
          "metadata": {},
          "execution_count": 3
        }
      ],
      "source": [
        "df = pd.read_csv('/content/mlbookcamp-code/chapter-02-car-price/data.csv')\n",
        "len(df)"
      ]
    },
    {
      "cell_type": "code",
      "execution_count": 4,
      "metadata": {
        "colab": {
          "base_uri": "https://localhost:8080/",
          "height": 441
        },
        "id": "2mNb5NQwEr21",
        "outputId": "5fb7061a-067a-4d76-ed43-e04039a039a9"
      },
      "outputs": [
        {
          "output_type": "execute_result",
          "data": {
            "text/plain": [
              "  Make       Model  Year             Engine Fuel Type  Engine HP  \\\n",
              "0  BMW  1 Series M  2011  premium unleaded (required)      335.0   \n",
              "1  BMW    1 Series  2011  premium unleaded (required)      300.0   \n",
              "2  BMW    1 Series  2011  premium unleaded (required)      300.0   \n",
              "3  BMW    1 Series  2011  premium unleaded (required)      230.0   \n",
              "4  BMW    1 Series  2011  premium unleaded (required)      230.0   \n",
              "\n",
              "   Engine Cylinders Transmission Type     Driven_Wheels  Number of Doors  \\\n",
              "0               6.0            MANUAL  rear wheel drive              2.0   \n",
              "1               6.0            MANUAL  rear wheel drive              2.0   \n",
              "2               6.0            MANUAL  rear wheel drive              2.0   \n",
              "3               6.0            MANUAL  rear wheel drive              2.0   \n",
              "4               6.0            MANUAL  rear wheel drive              2.0   \n",
              "\n",
              "                         Market Category Vehicle Size Vehicle Style  \\\n",
              "0  Factory Tuner,Luxury,High-Performance      Compact         Coupe   \n",
              "1                     Luxury,Performance      Compact   Convertible   \n",
              "2                Luxury,High-Performance      Compact         Coupe   \n",
              "3                     Luxury,Performance      Compact         Coupe   \n",
              "4                                 Luxury      Compact   Convertible   \n",
              "\n",
              "   highway MPG  city mpg  Popularity   MSRP  \n",
              "0           26        19        3916  46135  \n",
              "1           28        19        3916  40650  \n",
              "2           28        20        3916  36350  \n",
              "3           28        18        3916  29450  \n",
              "4           28        18        3916  34500  "
            ],
            "text/html": [
              "\n",
              "  <div id=\"df-eba4715c-be11-403c-be52-7376c898f5e2\">\n",
              "    <div class=\"colab-df-container\">\n",
              "      <div>\n",
              "<style scoped>\n",
              "    .dataframe tbody tr th:only-of-type {\n",
              "        vertical-align: middle;\n",
              "    }\n",
              "\n",
              "    .dataframe tbody tr th {\n",
              "        vertical-align: top;\n",
              "    }\n",
              "\n",
              "    .dataframe thead th {\n",
              "        text-align: right;\n",
              "    }\n",
              "</style>\n",
              "<table border=\"1\" class=\"dataframe\">\n",
              "  <thead>\n",
              "    <tr style=\"text-align: right;\">\n",
              "      <th></th>\n",
              "      <th>Make</th>\n",
              "      <th>Model</th>\n",
              "      <th>Year</th>\n",
              "      <th>Engine Fuel Type</th>\n",
              "      <th>Engine HP</th>\n",
              "      <th>Engine Cylinders</th>\n",
              "      <th>Transmission Type</th>\n",
              "      <th>Driven_Wheels</th>\n",
              "      <th>Number of Doors</th>\n",
              "      <th>Market Category</th>\n",
              "      <th>Vehicle Size</th>\n",
              "      <th>Vehicle Style</th>\n",
              "      <th>highway MPG</th>\n",
              "      <th>city mpg</th>\n",
              "      <th>Popularity</th>\n",
              "      <th>MSRP</th>\n",
              "    </tr>\n",
              "  </thead>\n",
              "  <tbody>\n",
              "    <tr>\n",
              "      <th>0</th>\n",
              "      <td>BMW</td>\n",
              "      <td>1 Series M</td>\n",
              "      <td>2011</td>\n",
              "      <td>premium unleaded (required)</td>\n",
              "      <td>335.0</td>\n",
              "      <td>6.0</td>\n",
              "      <td>MANUAL</td>\n",
              "      <td>rear wheel drive</td>\n",
              "      <td>2.0</td>\n",
              "      <td>Factory Tuner,Luxury,High-Performance</td>\n",
              "      <td>Compact</td>\n",
              "      <td>Coupe</td>\n",
              "      <td>26</td>\n",
              "      <td>19</td>\n",
              "      <td>3916</td>\n",
              "      <td>46135</td>\n",
              "    </tr>\n",
              "    <tr>\n",
              "      <th>1</th>\n",
              "      <td>BMW</td>\n",
              "      <td>1 Series</td>\n",
              "      <td>2011</td>\n",
              "      <td>premium unleaded (required)</td>\n",
              "      <td>300.0</td>\n",
              "      <td>6.0</td>\n",
              "      <td>MANUAL</td>\n",
              "      <td>rear wheel drive</td>\n",
              "      <td>2.0</td>\n",
              "      <td>Luxury,Performance</td>\n",
              "      <td>Compact</td>\n",
              "      <td>Convertible</td>\n",
              "      <td>28</td>\n",
              "      <td>19</td>\n",
              "      <td>3916</td>\n",
              "      <td>40650</td>\n",
              "    </tr>\n",
              "    <tr>\n",
              "      <th>2</th>\n",
              "      <td>BMW</td>\n",
              "      <td>1 Series</td>\n",
              "      <td>2011</td>\n",
              "      <td>premium unleaded (required)</td>\n",
              "      <td>300.0</td>\n",
              "      <td>6.0</td>\n",
              "      <td>MANUAL</td>\n",
              "      <td>rear wheel drive</td>\n",
              "      <td>2.0</td>\n",
              "      <td>Luxury,High-Performance</td>\n",
              "      <td>Compact</td>\n",
              "      <td>Coupe</td>\n",
              "      <td>28</td>\n",
              "      <td>20</td>\n",
              "      <td>3916</td>\n",
              "      <td>36350</td>\n",
              "    </tr>\n",
              "    <tr>\n",
              "      <th>3</th>\n",
              "      <td>BMW</td>\n",
              "      <td>1 Series</td>\n",
              "      <td>2011</td>\n",
              "      <td>premium unleaded (required)</td>\n",
              "      <td>230.0</td>\n",
              "      <td>6.0</td>\n",
              "      <td>MANUAL</td>\n",
              "      <td>rear wheel drive</td>\n",
              "      <td>2.0</td>\n",
              "      <td>Luxury,Performance</td>\n",
              "      <td>Compact</td>\n",
              "      <td>Coupe</td>\n",
              "      <td>28</td>\n",
              "      <td>18</td>\n",
              "      <td>3916</td>\n",
              "      <td>29450</td>\n",
              "    </tr>\n",
              "    <tr>\n",
              "      <th>4</th>\n",
              "      <td>BMW</td>\n",
              "      <td>1 Series</td>\n",
              "      <td>2011</td>\n",
              "      <td>premium unleaded (required)</td>\n",
              "      <td>230.0</td>\n",
              "      <td>6.0</td>\n",
              "      <td>MANUAL</td>\n",
              "      <td>rear wheel drive</td>\n",
              "      <td>2.0</td>\n",
              "      <td>Luxury</td>\n",
              "      <td>Compact</td>\n",
              "      <td>Convertible</td>\n",
              "      <td>28</td>\n",
              "      <td>18</td>\n",
              "      <td>3916</td>\n",
              "      <td>34500</td>\n",
              "    </tr>\n",
              "  </tbody>\n",
              "</table>\n",
              "</div>\n",
              "      <button class=\"colab-df-convert\" onclick=\"convertToInteractive('df-eba4715c-be11-403c-be52-7376c898f5e2')\"\n",
              "              title=\"Convert this dataframe to an interactive table.\"\n",
              "              style=\"display:none;\">\n",
              "        \n",
              "  <svg xmlns=\"http://www.w3.org/2000/svg\" height=\"24px\"viewBox=\"0 0 24 24\"\n",
              "       width=\"24px\">\n",
              "    <path d=\"M0 0h24v24H0V0z\" fill=\"none\"/>\n",
              "    <path d=\"M18.56 5.44l.94 2.06.94-2.06 2.06-.94-2.06-.94-.94-2.06-.94 2.06-2.06.94zm-11 1L8.5 8.5l.94-2.06 2.06-.94-2.06-.94L8.5 2.5l-.94 2.06-2.06.94zm10 10l.94 2.06.94-2.06 2.06-.94-2.06-.94-.94-2.06-.94 2.06-2.06.94z\"/><path d=\"M17.41 7.96l-1.37-1.37c-.4-.4-.92-.59-1.43-.59-.52 0-1.04.2-1.43.59L10.3 9.45l-7.72 7.72c-.78.78-.78 2.05 0 2.83L4 21.41c.39.39.9.59 1.41.59.51 0 1.02-.2 1.41-.59l7.78-7.78 2.81-2.81c.8-.78.8-2.07 0-2.86zM5.41 20L4 18.59l7.72-7.72 1.47 1.35L5.41 20z\"/>\n",
              "  </svg>\n",
              "      </button>\n",
              "      \n",
              "  <style>\n",
              "    .colab-df-container {\n",
              "      display:flex;\n",
              "      flex-wrap:wrap;\n",
              "      gap: 12px;\n",
              "    }\n",
              "\n",
              "    .colab-df-convert {\n",
              "      background-color: #E8F0FE;\n",
              "      border: none;\n",
              "      border-radius: 50%;\n",
              "      cursor: pointer;\n",
              "      display: none;\n",
              "      fill: #1967D2;\n",
              "      height: 32px;\n",
              "      padding: 0 0 0 0;\n",
              "      width: 32px;\n",
              "    }\n",
              "\n",
              "    .colab-df-convert:hover {\n",
              "      background-color: #E2EBFA;\n",
              "      box-shadow: 0px 1px 2px rgba(60, 64, 67, 0.3), 0px 1px 3px 1px rgba(60, 64, 67, 0.15);\n",
              "      fill: #174EA6;\n",
              "    }\n",
              "\n",
              "    [theme=dark] .colab-df-convert {\n",
              "      background-color: #3B4455;\n",
              "      fill: #D2E3FC;\n",
              "    }\n",
              "\n",
              "    [theme=dark] .colab-df-convert:hover {\n",
              "      background-color: #434B5C;\n",
              "      box-shadow: 0px 1px 3px 1px rgba(0, 0, 0, 0.15);\n",
              "      filter: drop-shadow(0px 1px 2px rgba(0, 0, 0, 0.3));\n",
              "      fill: #FFFFFF;\n",
              "    }\n",
              "  </style>\n",
              "\n",
              "      <script>\n",
              "        const buttonEl =\n",
              "          document.querySelector('#df-eba4715c-be11-403c-be52-7376c898f5e2 button.colab-df-convert');\n",
              "        buttonEl.style.display =\n",
              "          google.colab.kernel.accessAllowed ? 'block' : 'none';\n",
              "\n",
              "        async function convertToInteractive(key) {\n",
              "          const element = document.querySelector('#df-eba4715c-be11-403c-be52-7376c898f5e2');\n",
              "          const dataTable =\n",
              "            await google.colab.kernel.invokeFunction('convertToInteractive',\n",
              "                                                     [key], {});\n",
              "          if (!dataTable) return;\n",
              "\n",
              "          const docLinkHtml = 'Like what you see? Visit the ' +\n",
              "            '<a target=\"_blank\" href=https://colab.research.google.com/notebooks/data_table.ipynb>data table notebook</a>'\n",
              "            + ' to learn more about interactive tables.';\n",
              "          element.innerHTML = '';\n",
              "          dataTable['output_type'] = 'display_data';\n",
              "          await google.colab.output.renderOutput(dataTable, element);\n",
              "          const docLink = document.createElement('div');\n",
              "          docLink.innerHTML = docLinkHtml;\n",
              "          element.appendChild(docLink);\n",
              "        }\n",
              "      </script>\n",
              "    </div>\n",
              "  </div>\n",
              "  "
            ]
          },
          "metadata": {},
          "execution_count": 4
        }
      ],
      "source": [
        "df.head()"
      ]
    },
    {
      "cell_type": "code",
      "source": [
        "df.shape"
      ],
      "metadata": {
        "colab": {
          "base_uri": "https://localhost:8080/"
        },
        "id": "ZpZH7qa6MbEm",
        "outputId": "a4f4235c-d6e3-4cb8-c281-16c49320fc63"
      },
      "execution_count": 5,
      "outputs": [
        {
          "output_type": "execute_result",
          "data": {
            "text/plain": [
              "(11914, 16)"
            ]
          },
          "metadata": {},
          "execution_count": 5
        }
      ]
    },
    {
      "cell_type": "code",
      "source": [
        "df.columns"
      ],
      "metadata": {
        "colab": {
          "base_uri": "https://localhost:8080/"
        },
        "id": "EdFtW1k7gKzg",
        "outputId": "93b8c759-2ee6-4324-ea5b-135a53a0b13b"
      },
      "execution_count": 6,
      "outputs": [
        {
          "output_type": "execute_result",
          "data": {
            "text/plain": [
              "Index(['Make', 'Model', 'Year', 'Engine Fuel Type', 'Engine HP',\n",
              "       'Engine Cylinders', 'Transmission Type', 'Driven_Wheels',\n",
              "       'Number of Doors', 'Market Category', 'Vehicle Size', 'Vehicle Style',\n",
              "       'highway MPG', 'city mpg', 'Popularity', 'MSRP'],\n",
              "      dtype='object')"
            ]
          },
          "metadata": {},
          "execution_count": 6
        }
      ]
    },
    {
      "cell_type": "markdown",
      "source": [
        "As we see, this dataset contains multiple columns:\n",
        "\n",
        "`make`: make of a car (BMW, Toyota, and so on)\n",
        "\n",
        "`model`: model of a car\n",
        "\n",
        "`year`: year when the car was manufactured\n",
        "\n",
        "`engine_fuel_type`: type of fuel the engine needs (diesel, electric, and so on)\n",
        "\n",
        "`engine_hp`: horsepower of the engine\n",
        "\n",
        "`engine_cylinders`: number of cylinders in the engine\n",
        "\n",
        "`transmission_type`: type of transmission (automatic or manual)\n",
        "\n",
        "`driven_wheels`: front, rear, all\n",
        "\n",
        "`number_of_doors`: number of doors a car has\n",
        "\n",
        "`market_category`: luxury, crossover, and so on\n",
        "\n",
        "`vehicle_size`: compact, midsize, or large\n",
        "\n",
        "`vehicle_style`: sedan or convertible\n",
        "\n",
        "`highway_mpg`: miles per gallon (mpg) on the highway\n",
        "\n",
        "`city_mpg`: miles per gallon in the city\n",
        "\n",
        "`popularity`: number of times the car was mentioned in a Twitter stream\n",
        "\n",
        "`msrp`: manufacturer’s suggested retail price"
      ],
      "metadata": {
        "id": "d4XnaP7GMv56"
      }
    },
    {
      "cell_type": "code",
      "source": [
        "df.info()"
      ],
      "metadata": {
        "colab": {
          "base_uri": "https://localhost:8080/"
        },
        "id": "WgHVXQ3tgcw2",
        "outputId": "6b4ba961-aa42-4afc-c867-5fc55feffaa5"
      },
      "execution_count": 7,
      "outputs": [
        {
          "output_type": "stream",
          "name": "stdout",
          "text": [
            "<class 'pandas.core.frame.DataFrame'>\n",
            "RangeIndex: 11914 entries, 0 to 11913\n",
            "Data columns (total 16 columns):\n",
            " #   Column             Non-Null Count  Dtype  \n",
            "---  ------             --------------  -----  \n",
            " 0   Make               11914 non-null  object \n",
            " 1   Model              11914 non-null  object \n",
            " 2   Year               11914 non-null  int64  \n",
            " 3   Engine Fuel Type   11911 non-null  object \n",
            " 4   Engine HP          11845 non-null  float64\n",
            " 5   Engine Cylinders   11884 non-null  float64\n",
            " 6   Transmission Type  11914 non-null  object \n",
            " 7   Driven_Wheels      11914 non-null  object \n",
            " 8   Number of Doors    11908 non-null  float64\n",
            " 9   Market Category    8172 non-null   object \n",
            " 10  Vehicle Size       11914 non-null  object \n",
            " 11  Vehicle Style      11914 non-null  object \n",
            " 12  highway MPG        11914 non-null  int64  \n",
            " 13  city mpg           11914 non-null  int64  \n",
            " 14  Popularity         11914 non-null  int64  \n",
            " 15  MSRP               11914 non-null  int64  \n",
            "dtypes: float64(3), int64(5), object(8)\n",
            "memory usage: 1.5+ MB\n"
          ]
        }
      ]
    },
    {
      "cell_type": "code",
      "source": [
        "for col in df.columns:\n",
        "    print( col,':', df[col].nunique() )\n",
        "    print(df[col].value_counts().nlargest(5))\n",
        "    print('\\n' + '*' * 20 + '\\n')"
      ],
      "metadata": {
        "colab": {
          "base_uri": "https://localhost:8080/"
        },
        "id": "652-J-tOJCVI",
        "outputId": "d28069b0-b647-4571-f90b-fbd644385442"
      },
      "execution_count": 8,
      "outputs": [
        {
          "output_type": "stream",
          "name": "stdout",
          "text": [
            "Make : 48\n",
            "Chevrolet     1123\n",
            "Ford           881\n",
            "Volkswagen     809\n",
            "Toyota         746\n",
            "Dodge          626\n",
            "Name: Make, dtype: int64\n",
            "\n",
            "********************\n",
            "\n",
            "Model : 915\n",
            "Silverado 1500        156\n",
            "Tundra                140\n",
            "F-150                 126\n",
            "Sierra 1500            90\n",
            "Beetle Convertible     89\n",
            "Name: Model, dtype: int64\n",
            "\n",
            "********************\n",
            "\n",
            "Year : 28\n",
            "2015    2170\n",
            "2016    2157\n",
            "2017    1668\n",
            "2014     589\n",
            "2012     387\n",
            "Name: Year, dtype: int64\n",
            "\n",
            "********************\n",
            "\n",
            "Engine Fuel Type : 10\n",
            "regular unleaded                  7172\n",
            "premium unleaded (required)       2009\n",
            "premium unleaded (recommended)    1523\n",
            "flex-fuel (unleaded/E85)           899\n",
            "diesel                             154\n",
            "Name: Engine Fuel Type, dtype: int64\n",
            "\n",
            "********************\n",
            "\n",
            "Engine HP : 356\n",
            "200.0    456\n",
            "170.0    351\n",
            "210.0    320\n",
            "240.0    268\n",
            "285.0    246\n",
            "Name: Engine HP, dtype: int64\n",
            "\n",
            "********************\n",
            "\n",
            "Engine Cylinders : 9\n",
            "4.0     4752\n",
            "6.0     4489\n",
            "8.0     2031\n",
            "12.0     230\n",
            "5.0      225\n",
            "Name: Engine Cylinders, dtype: int64\n",
            "\n",
            "********************\n",
            "\n",
            "Transmission Type : 5\n",
            "AUTOMATIC           8266\n",
            "MANUAL              2935\n",
            "AUTOMATED_MANUAL     626\n",
            "DIRECT_DRIVE          68\n",
            "UNKNOWN               19\n",
            "Name: Transmission Type, dtype: int64\n",
            "\n",
            "********************\n",
            "\n",
            "Driven_Wheels : 4\n",
            "front wheel drive    4787\n",
            "rear wheel drive     3371\n",
            "all wheel drive      2353\n",
            "four wheel drive     1403\n",
            "Name: Driven_Wheels, dtype: int64\n",
            "\n",
            "********************\n",
            "\n",
            "Number of Doors : 3\n",
            "4.0    8353\n",
            "2.0    3160\n",
            "3.0     395\n",
            "Name: Number of Doors, dtype: int64\n",
            "\n",
            "********************\n",
            "\n",
            "Market Category : 71\n",
            "Crossover             1110\n",
            "Flex Fuel              872\n",
            "Luxury                 855\n",
            "Luxury,Performance     673\n",
            "Hatchback              641\n",
            "Name: Market Category, dtype: int64\n",
            "\n",
            "********************\n",
            "\n",
            "Vehicle Size : 3\n",
            "Compact    4764\n",
            "Midsize    4373\n",
            "Large      2777\n",
            "Name: Vehicle Size, dtype: int64\n",
            "\n",
            "********************\n",
            "\n",
            "Vehicle Style : 16\n",
            "Sedan            3048\n",
            "4dr SUV          2488\n",
            "Coupe            1211\n",
            "Convertible       793\n",
            "4dr Hatchback     702\n",
            "Name: Vehicle Style, dtype: int64\n",
            "\n",
            "********************\n",
            "\n",
            "highway MPG : 59\n",
            "24    876\n",
            "23    801\n",
            "26    778\n",
            "22    753\n",
            "25    731\n",
            "Name: highway MPG, dtype: int64\n",
            "\n",
            "********************\n",
            "\n",
            "city mpg : 69\n",
            "17    1230\n",
            "16    1106\n",
            "15    1038\n",
            "18     997\n",
            "19     841\n",
            "Name: city mpg, dtype: int64\n",
            "\n",
            "********************\n",
            "\n",
            "Popularity : 48\n",
            "1385    1123\n",
            "5657     881\n",
            "873      809\n",
            "2031     746\n",
            "1851     626\n",
            "Name: Popularity, dtype: int64\n",
            "\n",
            "********************\n",
            "\n",
            "MSRP : 6049\n",
            "2000     1036\n",
            "29995      19\n",
            "25995      19\n",
            "20995      16\n",
            "27995      16\n",
            "Name: MSRP, dtype: int64\n",
            "\n",
            "********************\n",
            "\n"
          ]
        }
      ]
    },
    {
      "cell_type": "markdown",
      "source": [
        "# Some Cleaning"
      ],
      "metadata": {
        "id": "tzEhgPoeKxx4"
      }
    },
    {
      "cell_type": "code",
      "execution_count": 9,
      "metadata": {
        "id": "m5uhMUO1Er21",
        "colab": {
          "base_uri": "https://localhost:8080/"
        },
        "outputId": "75b906a5-65ef-4b4f-96f9-15518329ad2d"
      },
      "outputs": [
        {
          "output_type": "stream",
          "name": "stdout",
          "text": [
            "['make', 'model', 'engine_fuel_type', 'transmission_type', 'driven_wheels', 'market_category', 'vehicle_size', 'vehicle_style']\n"
          ]
        }
      ],
      "source": [
        "# let's make all cat_columns and rows in lower case  and remove all spaces \n",
        "df.columns = df.columns.str.lower().str.replace(' ', '_')\n",
        "\n",
        "string_columns = list(df.dtypes[df.dtypes == 'object'].index)\n",
        "print(string_columns)\n",
        "for col in string_columns:\n",
        "    df[col] = df[col].str.lower().str.replace(' ', '_')"
      ]
    },
    {
      "cell_type": "code",
      "source": [
        "df.columns"
      ],
      "metadata": {
        "colab": {
          "base_uri": "https://localhost:8080/"
        },
        "id": "Hy664xHpmXlU",
        "outputId": "14b57a2e-fc2b-4b77-f9cc-6795c7029de7"
      },
      "execution_count": 10,
      "outputs": [
        {
          "output_type": "execute_result",
          "data": {
            "text/plain": [
              "Index(['make', 'model', 'year', 'engine_fuel_type', 'engine_hp',\n",
              "       'engine_cylinders', 'transmission_type', 'driven_wheels',\n",
              "       'number_of_doors', 'market_category', 'vehicle_size', 'vehicle_style',\n",
              "       'highway_mpg', 'city_mpg', 'popularity', 'msrp'],\n",
              "      dtype='object')"
            ]
          },
          "metadata": {},
          "execution_count": 10
        }
      ]
    },
    {
      "cell_type": "code",
      "source": [
        "df.rename(columns = {'msrp': 'price'}, inplace = True)"
      ],
      "metadata": {
        "id": "NMhkKbfIPiBg"
      },
      "execution_count": 11,
      "outputs": []
    },
    {
      "cell_type": "code",
      "execution_count": 12,
      "metadata": {
        "id": "_CKJ2tnkEr21",
        "colab": {
          "base_uri": "https://localhost:8080/",
          "height": 287
        },
        "outputId": "02262bbb-c808-48a3-cd51-00ef6b64ec68"
      },
      "outputs": [
        {
          "output_type": "execute_result",
          "data": {
            "text/plain": [
              "  make       model  year             engine_fuel_type  engine_hp  \\\n",
              "0  bmw  1_series_m  2011  premium_unleaded_(required)      335.0   \n",
              "1  bmw    1_series  2011  premium_unleaded_(required)      300.0   \n",
              "2  bmw    1_series  2011  premium_unleaded_(required)      300.0   \n",
              "3  bmw    1_series  2011  premium_unleaded_(required)      230.0   \n",
              "4  bmw    1_series  2011  premium_unleaded_(required)      230.0   \n",
              "\n",
              "   engine_cylinders transmission_type     driven_wheels  number_of_doors  \\\n",
              "0               6.0            manual  rear_wheel_drive              2.0   \n",
              "1               6.0            manual  rear_wheel_drive              2.0   \n",
              "2               6.0            manual  rear_wheel_drive              2.0   \n",
              "3               6.0            manual  rear_wheel_drive              2.0   \n",
              "4               6.0            manual  rear_wheel_drive              2.0   \n",
              "\n",
              "                         market_category vehicle_size vehicle_style  \\\n",
              "0  factory_tuner,luxury,high-performance      compact         coupe   \n",
              "1                     luxury,performance      compact   convertible   \n",
              "2                luxury,high-performance      compact         coupe   \n",
              "3                     luxury,performance      compact         coupe   \n",
              "4                                 luxury      compact   convertible   \n",
              "\n",
              "   highway_mpg  city_mpg  popularity  price  \n",
              "0           26        19        3916  46135  \n",
              "1           28        19        3916  40650  \n",
              "2           28        20        3916  36350  \n",
              "3           28        18        3916  29450  \n",
              "4           28        18        3916  34500  "
            ],
            "text/html": [
              "\n",
              "  <div id=\"df-ecb03580-64c6-41b0-9f19-9fe6404a2dd0\">\n",
              "    <div class=\"colab-df-container\">\n",
              "      <div>\n",
              "<style scoped>\n",
              "    .dataframe tbody tr th:only-of-type {\n",
              "        vertical-align: middle;\n",
              "    }\n",
              "\n",
              "    .dataframe tbody tr th {\n",
              "        vertical-align: top;\n",
              "    }\n",
              "\n",
              "    .dataframe thead th {\n",
              "        text-align: right;\n",
              "    }\n",
              "</style>\n",
              "<table border=\"1\" class=\"dataframe\">\n",
              "  <thead>\n",
              "    <tr style=\"text-align: right;\">\n",
              "      <th></th>\n",
              "      <th>make</th>\n",
              "      <th>model</th>\n",
              "      <th>year</th>\n",
              "      <th>engine_fuel_type</th>\n",
              "      <th>engine_hp</th>\n",
              "      <th>engine_cylinders</th>\n",
              "      <th>transmission_type</th>\n",
              "      <th>driven_wheels</th>\n",
              "      <th>number_of_doors</th>\n",
              "      <th>market_category</th>\n",
              "      <th>vehicle_size</th>\n",
              "      <th>vehicle_style</th>\n",
              "      <th>highway_mpg</th>\n",
              "      <th>city_mpg</th>\n",
              "      <th>popularity</th>\n",
              "      <th>price</th>\n",
              "    </tr>\n",
              "  </thead>\n",
              "  <tbody>\n",
              "    <tr>\n",
              "      <th>0</th>\n",
              "      <td>bmw</td>\n",
              "      <td>1_series_m</td>\n",
              "      <td>2011</td>\n",
              "      <td>premium_unleaded_(required)</td>\n",
              "      <td>335.0</td>\n",
              "      <td>6.0</td>\n",
              "      <td>manual</td>\n",
              "      <td>rear_wheel_drive</td>\n",
              "      <td>2.0</td>\n",
              "      <td>factory_tuner,luxury,high-performance</td>\n",
              "      <td>compact</td>\n",
              "      <td>coupe</td>\n",
              "      <td>26</td>\n",
              "      <td>19</td>\n",
              "      <td>3916</td>\n",
              "      <td>46135</td>\n",
              "    </tr>\n",
              "    <tr>\n",
              "      <th>1</th>\n",
              "      <td>bmw</td>\n",
              "      <td>1_series</td>\n",
              "      <td>2011</td>\n",
              "      <td>premium_unleaded_(required)</td>\n",
              "      <td>300.0</td>\n",
              "      <td>6.0</td>\n",
              "      <td>manual</td>\n",
              "      <td>rear_wheel_drive</td>\n",
              "      <td>2.0</td>\n",
              "      <td>luxury,performance</td>\n",
              "      <td>compact</td>\n",
              "      <td>convertible</td>\n",
              "      <td>28</td>\n",
              "      <td>19</td>\n",
              "      <td>3916</td>\n",
              "      <td>40650</td>\n",
              "    </tr>\n",
              "    <tr>\n",
              "      <th>2</th>\n",
              "      <td>bmw</td>\n",
              "      <td>1_series</td>\n",
              "      <td>2011</td>\n",
              "      <td>premium_unleaded_(required)</td>\n",
              "      <td>300.0</td>\n",
              "      <td>6.0</td>\n",
              "      <td>manual</td>\n",
              "      <td>rear_wheel_drive</td>\n",
              "      <td>2.0</td>\n",
              "      <td>luxury,high-performance</td>\n",
              "      <td>compact</td>\n",
              "      <td>coupe</td>\n",
              "      <td>28</td>\n",
              "      <td>20</td>\n",
              "      <td>3916</td>\n",
              "      <td>36350</td>\n",
              "    </tr>\n",
              "    <tr>\n",
              "      <th>3</th>\n",
              "      <td>bmw</td>\n",
              "      <td>1_series</td>\n",
              "      <td>2011</td>\n",
              "      <td>premium_unleaded_(required)</td>\n",
              "      <td>230.0</td>\n",
              "      <td>6.0</td>\n",
              "      <td>manual</td>\n",
              "      <td>rear_wheel_drive</td>\n",
              "      <td>2.0</td>\n",
              "      <td>luxury,performance</td>\n",
              "      <td>compact</td>\n",
              "      <td>coupe</td>\n",
              "      <td>28</td>\n",
              "      <td>18</td>\n",
              "      <td>3916</td>\n",
              "      <td>29450</td>\n",
              "    </tr>\n",
              "    <tr>\n",
              "      <th>4</th>\n",
              "      <td>bmw</td>\n",
              "      <td>1_series</td>\n",
              "      <td>2011</td>\n",
              "      <td>premium_unleaded_(required)</td>\n",
              "      <td>230.0</td>\n",
              "      <td>6.0</td>\n",
              "      <td>manual</td>\n",
              "      <td>rear_wheel_drive</td>\n",
              "      <td>2.0</td>\n",
              "      <td>luxury</td>\n",
              "      <td>compact</td>\n",
              "      <td>convertible</td>\n",
              "      <td>28</td>\n",
              "      <td>18</td>\n",
              "      <td>3916</td>\n",
              "      <td>34500</td>\n",
              "    </tr>\n",
              "  </tbody>\n",
              "</table>\n",
              "</div>\n",
              "      <button class=\"colab-df-convert\" onclick=\"convertToInteractive('df-ecb03580-64c6-41b0-9f19-9fe6404a2dd0')\"\n",
              "              title=\"Convert this dataframe to an interactive table.\"\n",
              "              style=\"display:none;\">\n",
              "        \n",
              "  <svg xmlns=\"http://www.w3.org/2000/svg\" height=\"24px\"viewBox=\"0 0 24 24\"\n",
              "       width=\"24px\">\n",
              "    <path d=\"M0 0h24v24H0V0z\" fill=\"none\"/>\n",
              "    <path d=\"M18.56 5.44l.94 2.06.94-2.06 2.06-.94-2.06-.94-.94-2.06-.94 2.06-2.06.94zm-11 1L8.5 8.5l.94-2.06 2.06-.94-2.06-.94L8.5 2.5l-.94 2.06-2.06.94zm10 10l.94 2.06.94-2.06 2.06-.94-2.06-.94-.94-2.06-.94 2.06-2.06.94z\"/><path d=\"M17.41 7.96l-1.37-1.37c-.4-.4-.92-.59-1.43-.59-.52 0-1.04.2-1.43.59L10.3 9.45l-7.72 7.72c-.78.78-.78 2.05 0 2.83L4 21.41c.39.39.9.59 1.41.59.51 0 1.02-.2 1.41-.59l7.78-7.78 2.81-2.81c.8-.78.8-2.07 0-2.86zM5.41 20L4 18.59l7.72-7.72 1.47 1.35L5.41 20z\"/>\n",
              "  </svg>\n",
              "      </button>\n",
              "      \n",
              "  <style>\n",
              "    .colab-df-container {\n",
              "      display:flex;\n",
              "      flex-wrap:wrap;\n",
              "      gap: 12px;\n",
              "    }\n",
              "\n",
              "    .colab-df-convert {\n",
              "      background-color: #E8F0FE;\n",
              "      border: none;\n",
              "      border-radius: 50%;\n",
              "      cursor: pointer;\n",
              "      display: none;\n",
              "      fill: #1967D2;\n",
              "      height: 32px;\n",
              "      padding: 0 0 0 0;\n",
              "      width: 32px;\n",
              "    }\n",
              "\n",
              "    .colab-df-convert:hover {\n",
              "      background-color: #E2EBFA;\n",
              "      box-shadow: 0px 1px 2px rgba(60, 64, 67, 0.3), 0px 1px 3px 1px rgba(60, 64, 67, 0.15);\n",
              "      fill: #174EA6;\n",
              "    }\n",
              "\n",
              "    [theme=dark] .colab-df-convert {\n",
              "      background-color: #3B4455;\n",
              "      fill: #D2E3FC;\n",
              "    }\n",
              "\n",
              "    [theme=dark] .colab-df-convert:hover {\n",
              "      background-color: #434B5C;\n",
              "      box-shadow: 0px 1px 3px 1px rgba(0, 0, 0, 0.15);\n",
              "      filter: drop-shadow(0px 1px 2px rgba(0, 0, 0, 0.3));\n",
              "      fill: #FFFFFF;\n",
              "    }\n",
              "  </style>\n",
              "\n",
              "      <script>\n",
              "        const buttonEl =\n",
              "          document.querySelector('#df-ecb03580-64c6-41b0-9f19-9fe6404a2dd0 button.colab-df-convert');\n",
              "        buttonEl.style.display =\n",
              "          google.colab.kernel.accessAllowed ? 'block' : 'none';\n",
              "\n",
              "        async function convertToInteractive(key) {\n",
              "          const element = document.querySelector('#df-ecb03580-64c6-41b0-9f19-9fe6404a2dd0');\n",
              "          const dataTable =\n",
              "            await google.colab.kernel.invokeFunction('convertToInteractive',\n",
              "                                                     [key], {});\n",
              "          if (!dataTable) return;\n",
              "\n",
              "          const docLinkHtml = 'Like what you see? Visit the ' +\n",
              "            '<a target=\"_blank\" href=https://colab.research.google.com/notebooks/data_table.ipynb>data table notebook</a>'\n",
              "            + ' to learn more about interactive tables.';\n",
              "          element.innerHTML = '';\n",
              "          dataTable['output_type'] = 'display_data';\n",
              "          await google.colab.output.renderOutput(dataTable, element);\n",
              "          const docLink = document.createElement('div');\n",
              "          docLink.innerHTML = docLinkHtml;\n",
              "          element.appendChild(docLink);\n",
              "        }\n",
              "      </script>\n",
              "    </div>\n",
              "  </div>\n",
              "  "
            ]
          },
          "metadata": {},
          "execution_count": 12
        }
      ],
      "source": [
        "df.head()"
      ]
    },
    {
      "cell_type": "markdown",
      "metadata": {
        "id": "kWtF-4PhEr22"
      },
      "source": [
        "# Exploratory Data Analysis"
      ]
    },
    {
      "cell_type": "code",
      "source": [
        "#Numerical\n",
        "pd.options.display.float_format = '{:,.2f}'.format\n",
        "df.describe()"
      ],
      "metadata": {
        "colab": {
          "base_uri": "https://localhost:8080/",
          "height": 300
        },
        "id": "g_z_bF5tQqcK",
        "outputId": "30e2ef1c-a02e-4bd0-bf90-e6b16f0f8b14"
      },
      "execution_count": 13,
      "outputs": [
        {
          "output_type": "execute_result",
          "data": {
            "text/plain": [
              "           year  engine_hp  engine_cylinders  number_of_doors  highway_mpg  \\\n",
              "count 11,914.00  11,845.00         11,884.00        11,908.00    11,914.00   \n",
              "mean   2,010.38     249.39              5.63             3.44        26.64   \n",
              "std        7.58     109.19              1.78             0.88         8.86   \n",
              "min    1,990.00      55.00              0.00             2.00        12.00   \n",
              "25%    2,007.00     170.00              4.00             2.00        22.00   \n",
              "50%    2,015.00     227.00              6.00             4.00        26.00   \n",
              "75%    2,016.00     300.00              6.00             4.00        30.00   \n",
              "max    2,017.00   1,001.00             16.00             4.00       354.00   \n",
              "\n",
              "       city_mpg  popularity        price  \n",
              "count 11,914.00   11,914.00    11,914.00  \n",
              "mean      19.73    1,554.91    40,594.74  \n",
              "std        8.99    1,441.86    60,109.10  \n",
              "min        7.00        2.00     2,000.00  \n",
              "25%       16.00      549.00    21,000.00  \n",
              "50%       18.00    1,385.00    29,995.00  \n",
              "75%       22.00    2,009.00    42,231.25  \n",
              "max      137.00    5,657.00 2,065,902.00  "
            ],
            "text/html": [
              "\n",
              "  <div id=\"df-91289126-740a-4b7d-a0c4-4ba871570e47\">\n",
              "    <div class=\"colab-df-container\">\n",
              "      <div>\n",
              "<style scoped>\n",
              "    .dataframe tbody tr th:only-of-type {\n",
              "        vertical-align: middle;\n",
              "    }\n",
              "\n",
              "    .dataframe tbody tr th {\n",
              "        vertical-align: top;\n",
              "    }\n",
              "\n",
              "    .dataframe thead th {\n",
              "        text-align: right;\n",
              "    }\n",
              "</style>\n",
              "<table border=\"1\" class=\"dataframe\">\n",
              "  <thead>\n",
              "    <tr style=\"text-align: right;\">\n",
              "      <th></th>\n",
              "      <th>year</th>\n",
              "      <th>engine_hp</th>\n",
              "      <th>engine_cylinders</th>\n",
              "      <th>number_of_doors</th>\n",
              "      <th>highway_mpg</th>\n",
              "      <th>city_mpg</th>\n",
              "      <th>popularity</th>\n",
              "      <th>price</th>\n",
              "    </tr>\n",
              "  </thead>\n",
              "  <tbody>\n",
              "    <tr>\n",
              "      <th>count</th>\n",
              "      <td>11,914.00</td>\n",
              "      <td>11,845.00</td>\n",
              "      <td>11,884.00</td>\n",
              "      <td>11,908.00</td>\n",
              "      <td>11,914.00</td>\n",
              "      <td>11,914.00</td>\n",
              "      <td>11,914.00</td>\n",
              "      <td>11,914.00</td>\n",
              "    </tr>\n",
              "    <tr>\n",
              "      <th>mean</th>\n",
              "      <td>2,010.38</td>\n",
              "      <td>249.39</td>\n",
              "      <td>5.63</td>\n",
              "      <td>3.44</td>\n",
              "      <td>26.64</td>\n",
              "      <td>19.73</td>\n",
              "      <td>1,554.91</td>\n",
              "      <td>40,594.74</td>\n",
              "    </tr>\n",
              "    <tr>\n",
              "      <th>std</th>\n",
              "      <td>7.58</td>\n",
              "      <td>109.19</td>\n",
              "      <td>1.78</td>\n",
              "      <td>0.88</td>\n",
              "      <td>8.86</td>\n",
              "      <td>8.99</td>\n",
              "      <td>1,441.86</td>\n",
              "      <td>60,109.10</td>\n",
              "    </tr>\n",
              "    <tr>\n",
              "      <th>min</th>\n",
              "      <td>1,990.00</td>\n",
              "      <td>55.00</td>\n",
              "      <td>0.00</td>\n",
              "      <td>2.00</td>\n",
              "      <td>12.00</td>\n",
              "      <td>7.00</td>\n",
              "      <td>2.00</td>\n",
              "      <td>2,000.00</td>\n",
              "    </tr>\n",
              "    <tr>\n",
              "      <th>25%</th>\n",
              "      <td>2,007.00</td>\n",
              "      <td>170.00</td>\n",
              "      <td>4.00</td>\n",
              "      <td>2.00</td>\n",
              "      <td>22.00</td>\n",
              "      <td>16.00</td>\n",
              "      <td>549.00</td>\n",
              "      <td>21,000.00</td>\n",
              "    </tr>\n",
              "    <tr>\n",
              "      <th>50%</th>\n",
              "      <td>2,015.00</td>\n",
              "      <td>227.00</td>\n",
              "      <td>6.00</td>\n",
              "      <td>4.00</td>\n",
              "      <td>26.00</td>\n",
              "      <td>18.00</td>\n",
              "      <td>1,385.00</td>\n",
              "      <td>29,995.00</td>\n",
              "    </tr>\n",
              "    <tr>\n",
              "      <th>75%</th>\n",
              "      <td>2,016.00</td>\n",
              "      <td>300.00</td>\n",
              "      <td>6.00</td>\n",
              "      <td>4.00</td>\n",
              "      <td>30.00</td>\n",
              "      <td>22.00</td>\n",
              "      <td>2,009.00</td>\n",
              "      <td>42,231.25</td>\n",
              "    </tr>\n",
              "    <tr>\n",
              "      <th>max</th>\n",
              "      <td>2,017.00</td>\n",
              "      <td>1,001.00</td>\n",
              "      <td>16.00</td>\n",
              "      <td>4.00</td>\n",
              "      <td>354.00</td>\n",
              "      <td>137.00</td>\n",
              "      <td>5,657.00</td>\n",
              "      <td>2,065,902.00</td>\n",
              "    </tr>\n",
              "  </tbody>\n",
              "</table>\n",
              "</div>\n",
              "      <button class=\"colab-df-convert\" onclick=\"convertToInteractive('df-91289126-740a-4b7d-a0c4-4ba871570e47')\"\n",
              "              title=\"Convert this dataframe to an interactive table.\"\n",
              "              style=\"display:none;\">\n",
              "        \n",
              "  <svg xmlns=\"http://www.w3.org/2000/svg\" height=\"24px\"viewBox=\"0 0 24 24\"\n",
              "       width=\"24px\">\n",
              "    <path d=\"M0 0h24v24H0V0z\" fill=\"none\"/>\n",
              "    <path d=\"M18.56 5.44l.94 2.06.94-2.06 2.06-.94-2.06-.94-.94-2.06-.94 2.06-2.06.94zm-11 1L8.5 8.5l.94-2.06 2.06-.94-2.06-.94L8.5 2.5l-.94 2.06-2.06.94zm10 10l.94 2.06.94-2.06 2.06-.94-2.06-.94-.94-2.06-.94 2.06-2.06.94z\"/><path d=\"M17.41 7.96l-1.37-1.37c-.4-.4-.92-.59-1.43-.59-.52 0-1.04.2-1.43.59L10.3 9.45l-7.72 7.72c-.78.78-.78 2.05 0 2.83L4 21.41c.39.39.9.59 1.41.59.51 0 1.02-.2 1.41-.59l7.78-7.78 2.81-2.81c.8-.78.8-2.07 0-2.86zM5.41 20L4 18.59l7.72-7.72 1.47 1.35L5.41 20z\"/>\n",
              "  </svg>\n",
              "      </button>\n",
              "      \n",
              "  <style>\n",
              "    .colab-df-container {\n",
              "      display:flex;\n",
              "      flex-wrap:wrap;\n",
              "      gap: 12px;\n",
              "    }\n",
              "\n",
              "    .colab-df-convert {\n",
              "      background-color: #E8F0FE;\n",
              "      border: none;\n",
              "      border-radius: 50%;\n",
              "      cursor: pointer;\n",
              "      display: none;\n",
              "      fill: #1967D2;\n",
              "      height: 32px;\n",
              "      padding: 0 0 0 0;\n",
              "      width: 32px;\n",
              "    }\n",
              "\n",
              "    .colab-df-convert:hover {\n",
              "      background-color: #E2EBFA;\n",
              "      box-shadow: 0px 1px 2px rgba(60, 64, 67, 0.3), 0px 1px 3px 1px rgba(60, 64, 67, 0.15);\n",
              "      fill: #174EA6;\n",
              "    }\n",
              "\n",
              "    [theme=dark] .colab-df-convert {\n",
              "      background-color: #3B4455;\n",
              "      fill: #D2E3FC;\n",
              "    }\n",
              "\n",
              "    [theme=dark] .colab-df-convert:hover {\n",
              "      background-color: #434B5C;\n",
              "      box-shadow: 0px 1px 3px 1px rgba(0, 0, 0, 0.15);\n",
              "      filter: drop-shadow(0px 1px 2px rgba(0, 0, 0, 0.3));\n",
              "      fill: #FFFFFF;\n",
              "    }\n",
              "  </style>\n",
              "\n",
              "      <script>\n",
              "        const buttonEl =\n",
              "          document.querySelector('#df-91289126-740a-4b7d-a0c4-4ba871570e47 button.colab-df-convert');\n",
              "        buttonEl.style.display =\n",
              "          google.colab.kernel.accessAllowed ? 'block' : 'none';\n",
              "\n",
              "        async function convertToInteractive(key) {\n",
              "          const element = document.querySelector('#df-91289126-740a-4b7d-a0c4-4ba871570e47');\n",
              "          const dataTable =\n",
              "            await google.colab.kernel.invokeFunction('convertToInteractive',\n",
              "                                                     [key], {});\n",
              "          if (!dataTable) return;\n",
              "\n",
              "          const docLinkHtml = 'Like what you see? Visit the ' +\n",
              "            '<a target=\"_blank\" href=https://colab.research.google.com/notebooks/data_table.ipynb>data table notebook</a>'\n",
              "            + ' to learn more about interactive tables.';\n",
              "          element.innerHTML = '';\n",
              "          dataTable['output_type'] = 'display_data';\n",
              "          await google.colab.output.renderOutput(dataTable, element);\n",
              "          const docLink = document.createElement('div');\n",
              "          docLink.innerHTML = docLinkHtml;\n",
              "          element.appendChild(docLink);\n",
              "        }\n",
              "      </script>\n",
              "    </div>\n",
              "  </div>\n",
              "  "
            ]
          },
          "metadata": {},
          "execution_count": 13
        }
      ]
    },
    {
      "cell_type": "markdown",
      "source": [
        "> You can observe the scale, expected distribution, abnormal values and ... etc"
      ],
      "metadata": {
        "id": "DWdEypqtLoC5"
      }
    },
    {
      "cell_type": "code",
      "source": [
        "#categorical\n",
        "df.describe(include=['O'])"
      ],
      "metadata": {
        "colab": {
          "base_uri": "https://localhost:8080/",
          "height": 175
        },
        "id": "ozcBFV-s1Xiv",
        "outputId": "14dc652b-5467-449a-acdf-b4b2bf3c324c"
      },
      "execution_count": 14,
      "outputs": [
        {
          "output_type": "execute_result",
          "data": {
            "text/plain": [
              "             make           model  engine_fuel_type transmission_type  \\\n",
              "count       11914           11914             11911             11914   \n",
              "unique         48             914                10                 5   \n",
              "top     chevrolet  silverado_1500  regular_unleaded         automatic   \n",
              "freq         1123             156              7172              8266   \n",
              "\n",
              "            driven_wheels market_category vehicle_size vehicle_style  \n",
              "count               11914            8172        11914         11914  \n",
              "unique                  4              71            3            16  \n",
              "top     front_wheel_drive       crossover      compact         sedan  \n",
              "freq                 4787            1110         4764          3048  "
            ],
            "text/html": [
              "\n",
              "  <div id=\"df-a2be37bb-28a2-491d-ade6-36dd37138cbe\">\n",
              "    <div class=\"colab-df-container\">\n",
              "      <div>\n",
              "<style scoped>\n",
              "    .dataframe tbody tr th:only-of-type {\n",
              "        vertical-align: middle;\n",
              "    }\n",
              "\n",
              "    .dataframe tbody tr th {\n",
              "        vertical-align: top;\n",
              "    }\n",
              "\n",
              "    .dataframe thead th {\n",
              "        text-align: right;\n",
              "    }\n",
              "</style>\n",
              "<table border=\"1\" class=\"dataframe\">\n",
              "  <thead>\n",
              "    <tr style=\"text-align: right;\">\n",
              "      <th></th>\n",
              "      <th>make</th>\n",
              "      <th>model</th>\n",
              "      <th>engine_fuel_type</th>\n",
              "      <th>transmission_type</th>\n",
              "      <th>driven_wheels</th>\n",
              "      <th>market_category</th>\n",
              "      <th>vehicle_size</th>\n",
              "      <th>vehicle_style</th>\n",
              "    </tr>\n",
              "  </thead>\n",
              "  <tbody>\n",
              "    <tr>\n",
              "      <th>count</th>\n",
              "      <td>11914</td>\n",
              "      <td>11914</td>\n",
              "      <td>11911</td>\n",
              "      <td>11914</td>\n",
              "      <td>11914</td>\n",
              "      <td>8172</td>\n",
              "      <td>11914</td>\n",
              "      <td>11914</td>\n",
              "    </tr>\n",
              "    <tr>\n",
              "      <th>unique</th>\n",
              "      <td>48</td>\n",
              "      <td>914</td>\n",
              "      <td>10</td>\n",
              "      <td>5</td>\n",
              "      <td>4</td>\n",
              "      <td>71</td>\n",
              "      <td>3</td>\n",
              "      <td>16</td>\n",
              "    </tr>\n",
              "    <tr>\n",
              "      <th>top</th>\n",
              "      <td>chevrolet</td>\n",
              "      <td>silverado_1500</td>\n",
              "      <td>regular_unleaded</td>\n",
              "      <td>automatic</td>\n",
              "      <td>front_wheel_drive</td>\n",
              "      <td>crossover</td>\n",
              "      <td>compact</td>\n",
              "      <td>sedan</td>\n",
              "    </tr>\n",
              "    <tr>\n",
              "      <th>freq</th>\n",
              "      <td>1123</td>\n",
              "      <td>156</td>\n",
              "      <td>7172</td>\n",
              "      <td>8266</td>\n",
              "      <td>4787</td>\n",
              "      <td>1110</td>\n",
              "      <td>4764</td>\n",
              "      <td>3048</td>\n",
              "    </tr>\n",
              "  </tbody>\n",
              "</table>\n",
              "</div>\n",
              "      <button class=\"colab-df-convert\" onclick=\"convertToInteractive('df-a2be37bb-28a2-491d-ade6-36dd37138cbe')\"\n",
              "              title=\"Convert this dataframe to an interactive table.\"\n",
              "              style=\"display:none;\">\n",
              "        \n",
              "  <svg xmlns=\"http://www.w3.org/2000/svg\" height=\"24px\"viewBox=\"0 0 24 24\"\n",
              "       width=\"24px\">\n",
              "    <path d=\"M0 0h24v24H0V0z\" fill=\"none\"/>\n",
              "    <path d=\"M18.56 5.44l.94 2.06.94-2.06 2.06-.94-2.06-.94-.94-2.06-.94 2.06-2.06.94zm-11 1L8.5 8.5l.94-2.06 2.06-.94-2.06-.94L8.5 2.5l-.94 2.06-2.06.94zm10 10l.94 2.06.94-2.06 2.06-.94-2.06-.94-.94-2.06-.94 2.06-2.06.94z\"/><path d=\"M17.41 7.96l-1.37-1.37c-.4-.4-.92-.59-1.43-.59-.52 0-1.04.2-1.43.59L10.3 9.45l-7.72 7.72c-.78.78-.78 2.05 0 2.83L4 21.41c.39.39.9.59 1.41.59.51 0 1.02-.2 1.41-.59l7.78-7.78 2.81-2.81c.8-.78.8-2.07 0-2.86zM5.41 20L4 18.59l7.72-7.72 1.47 1.35L5.41 20z\"/>\n",
              "  </svg>\n",
              "      </button>\n",
              "      \n",
              "  <style>\n",
              "    .colab-df-container {\n",
              "      display:flex;\n",
              "      flex-wrap:wrap;\n",
              "      gap: 12px;\n",
              "    }\n",
              "\n",
              "    .colab-df-convert {\n",
              "      background-color: #E8F0FE;\n",
              "      border: none;\n",
              "      border-radius: 50%;\n",
              "      cursor: pointer;\n",
              "      display: none;\n",
              "      fill: #1967D2;\n",
              "      height: 32px;\n",
              "      padding: 0 0 0 0;\n",
              "      width: 32px;\n",
              "    }\n",
              "\n",
              "    .colab-df-convert:hover {\n",
              "      background-color: #E2EBFA;\n",
              "      box-shadow: 0px 1px 2px rgba(60, 64, 67, 0.3), 0px 1px 3px 1px rgba(60, 64, 67, 0.15);\n",
              "      fill: #174EA6;\n",
              "    }\n",
              "\n",
              "    [theme=dark] .colab-df-convert {\n",
              "      background-color: #3B4455;\n",
              "      fill: #D2E3FC;\n",
              "    }\n",
              "\n",
              "    [theme=dark] .colab-df-convert:hover {\n",
              "      background-color: #434B5C;\n",
              "      box-shadow: 0px 1px 3px 1px rgba(0, 0, 0, 0.15);\n",
              "      filter: drop-shadow(0px 1px 2px rgba(0, 0, 0, 0.3));\n",
              "      fill: #FFFFFF;\n",
              "    }\n",
              "  </style>\n",
              "\n",
              "      <script>\n",
              "        const buttonEl =\n",
              "          document.querySelector('#df-a2be37bb-28a2-491d-ade6-36dd37138cbe button.colab-df-convert');\n",
              "        buttonEl.style.display =\n",
              "          google.colab.kernel.accessAllowed ? 'block' : 'none';\n",
              "\n",
              "        async function convertToInteractive(key) {\n",
              "          const element = document.querySelector('#df-a2be37bb-28a2-491d-ade6-36dd37138cbe');\n",
              "          const dataTable =\n",
              "            await google.colab.kernel.invokeFunction('convertToInteractive',\n",
              "                                                     [key], {});\n",
              "          if (!dataTable) return;\n",
              "\n",
              "          const docLinkHtml = 'Like what you see? Visit the ' +\n",
              "            '<a target=\"_blank\" href=https://colab.research.google.com/notebooks/data_table.ipynb>data table notebook</a>'\n",
              "            + ' to learn more about interactive tables.';\n",
              "          element.innerHTML = '';\n",
              "          dataTable['output_type'] = 'display_data';\n",
              "          await google.colab.output.renderOutput(dataTable, element);\n",
              "          const docLink = document.createElement('div');\n",
              "          docLink.innerHTML = docLinkHtml;\n",
              "          element.appendChild(docLink);\n",
              "        }\n",
              "      </script>\n",
              "    </div>\n",
              "  </div>\n",
              "  "
            ]
          },
          "metadata": {},
          "execution_count": 14
        }
      ]
    },
    {
      "cell_type": "markdown",
      "source": [
        "## Target variable analysis (price)"
      ],
      "metadata": {
        "id": "zz2qJdZONOVP"
      }
    },
    {
      "cell_type": "code",
      "execution_count": 15,
      "metadata": {
        "id": "U8K4Tnx6Er23",
        "colab": {
          "base_uri": "https://localhost:8080/",
          "height": 464
        },
        "outputId": "c277bd11-d279-4ae7-b514-c1c6d78ddbd0"
      },
      "outputs": [
        {
          "output_type": "display_data",
          "data": {
            "text/plain": [
              "<Figure size 1080x504 with 1 Axes>"
            ],
            "image/png": "[encoded data removed]"
          },
          "metadata": {
            "needs_background": "light"
          }
        }
      ],
      "source": [
        "plt.figure(figsize=(15, 7))\n",
        "\n",
        "sns.histplot(df.price, bins=40)\n",
        "plt.ylabel('Frequency')\n",
        "plt.xlabel('Price')\n",
        "plt.title('Distribution of prices')\n",
        "\n",
        "plt.show()"
      ]
    },
    {
      "cell_type": "markdown",
      "source": [
        "This is a `long tail` distribution, which is a typical situation for many items with low prices and very few expensive ones.\n",
        "    \n",
        "    We can have a closer look by zooming in a bit and looking at values below $100,000"
      ],
      "metadata": {
        "id": "cbWwqIydNo_3"
      }
    },
    {
      "cell_type": "code",
      "execution_count": 16,
      "metadata": {
        "id": "GSitSkYFEr24",
        "colab": {
          "base_uri": "https://localhost:8080/",
          "height": 301
        },
        "outputId": "bfa95910-17c9-4109-f79f-3d05885c4856"
      },
      "outputs": [
        {
          "output_type": "display_data",
          "data": {
            "text/plain": [
              "<Figure size 432x288 with 1 Axes>"
            ],
            "image/png": "[encoded data removed]"
          },
          "metadata": {
            "needs_background": "light"
          }
        }
      ],
      "source": [
        "plt.figure(figsize=(6, 4))\n",
        "\n",
        "sns.histplot(df.price[df.price < 80000], bins=40)\n",
        "plt.ylabel('Frequency')\n",
        "plt.xlabel('Price')\n",
        "plt.title('Distribution of prices')\n",
        "\n",
        "plt.show()"
      ]
    },
    {
      "cell_type": "markdown",
      "source": [
        "The long tail makes it quite difficult for us to see the distribution, but it has an even stronger effect on a model: such distribution can greatly confuse the model, so it won’t learn well enough. \n",
        "    \n",
        "    One way to solve this problem is log transformation. "
      ],
      "metadata": {
        "id": "lfkTBOyjOXIV"
      }
    },
    {
      "cell_type": "markdown",
      "source": [
        "## Log Transformation"
      ],
      "metadata": {
        "id": "gmpIhRh6-l2D"
      }
    },
    {
      "cell_type": "code",
      "execution_count": 17,
      "metadata": {
        "id": "TCtYtP46Er24",
        "colab": {
          "base_uri": "https://localhost:8080/",
          "height": 301
        },
        "outputId": "d0a6bb9d-23ef-40f9-8476-2fd915a894d8"
      },
      "outputs": [
        {
          "output_type": "display_data",
          "data": {
            "text/plain": [
              "<Figure size 432x288 with 1 Axes>"
            ],
            "image/png": "[encoded data removed]"
          },
          "metadata": {
            "needs_background": "light"
          }
        }
      ],
      "source": [
        "df['log_price'] = np.log1p(df.price)\n",
        "\n",
        "plt.figure(figsize=(6, 4))\n",
        "\n",
        "sns.histplot(df.log_price, bins=40)\n",
        "plt.ylabel('Frequency')\n",
        "plt.xlabel('Log(Price + 1)')\n",
        "plt.title('Distribution of prices after log tranformation')\n",
        "\n",
        "plt.show()"
      ]
    },
    {
      "cell_type": "markdown",
      "source": [
        "The effect of the long tail is removed, and we can see the entire distribution in one plot.\n",
        "\n",
        "The +1 part is important in cases that have zeros. The logarithm of zero is minus infinity, but the logarithm of one is zero. \n",
        "\n",
        "For our specific case, zero values are not an issue—all the prices we have start at $2,000—but it’s still a convention that we follow."
      ],
      "metadata": {
        "id": "mP0Zb5P3PBrv"
      }
    },
    {
      "cell_type": "code",
      "source": [
        "df.price.skew()"
      ],
      "metadata": {
        "colab": {
          "base_uri": "https://localhost:8080/"
        },
        "id": "877EvEa72UNM",
        "outputId": "67938d22-35da-4bdf-a0b4-771d4037b9e6"
      },
      "execution_count": 18,
      "outputs": [
        {
          "output_type": "execute_result",
          "data": {
            "text/plain": [
              "11.771987129334972"
            ]
          },
          "metadata": {},
          "execution_count": 18
        }
      ]
    },
    {
      "cell_type": "code",
      "source": [
        "df.log_price.skew()"
      ],
      "metadata": {
        "colab": {
          "base_uri": "https://localhost:8080/"
        },
        "id": "6eXRBb742X8w",
        "outputId": "fae397e5-40f7-41c5-ef3a-c6c7cd299876"
      },
      "execution_count": 19,
      "outputs": [
        {
          "output_type": "execute_result",
          "data": {
            "text/plain": [
              "-0.9178678067039072"
            ]
          },
          "metadata": {},
          "execution_count": 19
        }
      ]
    },
    {
      "cell_type": "markdown",
      "source": [
        "**Positive Skewness vs. Negative Skewness**\n",
        "\n",
        "![](https://www.researchgate.net/profile/Marco-Faria/publication/294890337/figure/fig5/AS:668873900716049@1536483373457/a-Negative-skewness-b-Normal-curve-c-Positive-skewness-Durkhure-and-Lodwal-2014.ppm)"
      ],
      "metadata": {
        "id": "H2-KVIz-3E9Q"
      }
    },
    {
      "cell_type": "markdown",
      "source": [
        "> Check this article\n",
        "\n",
        "[Top 3 Methods for Handling Skewed Data](https://towardsdatascience.com/top-3-methods-for-handling-skewed-data-1334e0debf45)"
      ],
      "metadata": {
        "id": "VJc_sF8A-qq7"
      }
    },
    {
      "cell_type": "markdown",
      "source": [
        "## Check missing values and handiling it"
      ],
      "metadata": {
        "id": "nox23Sx64p6H"
      }
    },
    {
      "cell_type": "code",
      "source": [
        "df.head()"
      ],
      "metadata": {
        "id": "v1JEwL6Nbll8",
        "outputId": "b6e6beb2-82df-4156-97c0-b68f0c16f1ff",
        "colab": {
          "base_uri": "https://localhost:8080/",
          "height": 287
        }
      },
      "execution_count": 20,
      "outputs": [
        {
          "output_type": "execute_result",
          "data": {
            "text/plain": [
              "  make       model  year             engine_fuel_type  engine_hp  \\\n",
              "0  bmw  1_series_m  2011  premium_unleaded_(required)     335.00   \n",
              "1  bmw    1_series  2011  premium_unleaded_(required)     300.00   \n",
              "2  bmw    1_series  2011  premium_unleaded_(required)     300.00   \n",
              "3  bmw    1_series  2011  premium_unleaded_(required)     230.00   \n",
              "4  bmw    1_series  2011  premium_unleaded_(required)     230.00   \n",
              "\n",
              "   engine_cylinders transmission_type     driven_wheels  number_of_doors  \\\n",
              "0              6.00            manual  rear_wheel_drive             2.00   \n",
              "1              6.00            manual  rear_wheel_drive             2.00   \n",
              "2              6.00            manual  rear_wheel_drive             2.00   \n",
              "3              6.00            manual  rear_wheel_drive             2.00   \n",
              "4              6.00            manual  rear_wheel_drive             2.00   \n",
              "\n",
              "                         market_category vehicle_size vehicle_style  \\\n",
              "0  factory_tuner,luxury,high-performance      compact         coupe   \n",
              "1                     luxury,performance      compact   convertible   \n",
              "2                luxury,high-performance      compact         coupe   \n",
              "3                     luxury,performance      compact         coupe   \n",
              "4                                 luxury      compact   convertible   \n",
              "\n",
              "   highway_mpg  city_mpg  popularity  price  log_price  \n",
              "0           26        19        3916  46135      10.74  \n",
              "1           28        19        3916  40650      10.61  \n",
              "2           28        20        3916  36350      10.50  \n",
              "3           28        18        3916  29450      10.29  \n",
              "4           28        18        3916  34500      10.45  "
            ],
            "text/html": [
              "\n",
              "  <div id=\"df-5b9e0ac4-55e4-4ec2-aa30-e16bd3114a5f\">\n",
              "    <div class=\"colab-df-container\">\n",
              "      <div>\n",
              "<style scoped>\n",
              "    .dataframe tbody tr th:only-of-type {\n",
              "        vertical-align: middle;\n",
              "    }\n",
              "\n",
              "    .dataframe tbody tr th {\n",
              "        vertical-align: top;\n",
              "    }\n",
              "\n",
              "    .dataframe thead th {\n",
              "        text-align: right;\n",
              "    }\n",
              "</style>\n",
              "<table border=\"1\" class=\"dataframe\">\n",
              "  <thead>\n",
              "    <tr style=\"text-align: right;\">\n",
              "      <th></th>\n",
              "      <th>make</th>\n",
              "      <th>model</th>\n",
              "      <th>year</th>\n",
              "      <th>engine_fuel_type</th>\n",
              "      <th>engine_hp</th>\n",
              "      <th>engine_cylinders</th>\n",
              "      <th>transmission_type</th>\n",
              "      <th>driven_wheels</th>\n",
              "      <th>number_of_doors</th>\n",
              "      <th>market_category</th>\n",
              "      <th>vehicle_size</th>\n",
              "      <th>vehicle_style</th>\n",
              "      <th>highway_mpg</th>\n",
              "      <th>city_mpg</th>\n",
              "      <th>popularity</th>\n",
              "      <th>price</th>\n",
              "      <th>log_price</th>\n",
              "    </tr>\n",
              "  </thead>\n",
              "  <tbody>\n",
              "    <tr>\n",
              "      <th>0</th>\n",
              "      <td>bmw</td>\n",
              "      <td>1_series_m</td>\n",
              "      <td>2011</td>\n",
              "      <td>premium_unleaded_(required)</td>\n",
              "      <td>335.00</td>\n",
              "      <td>6.00</td>\n",
              "      <td>manual</td>\n",
              "      <td>rear_wheel_drive</td>\n",
              "      <td>2.00</td>\n",
              "      <td>factory_tuner,luxury,high-performance</td>\n",
              "      <td>compact</td>\n",
              "      <td>coupe</td>\n",
              "      <td>26</td>\n",
              "      <td>19</td>\n",
              "      <td>3916</td>\n",
              "      <td>46135</td>\n",
              "      <td>10.74</td>\n",
              "    </tr>\n",
              "    <tr>\n",
              "      <th>1</th>\n",
              "      <td>bmw</td>\n",
              "      <td>1_series</td>\n",
              "      <td>2011</td>\n",
              "      <td>premium_unleaded_(required)</td>\n",
              "      <td>300.00</td>\n",
              "      <td>6.00</td>\n",
              "      <td>manual</td>\n",
              "      <td>rear_wheel_drive</td>\n",
              "      <td>2.00</td>\n",
              "      <td>luxury,performance</td>\n",
              "      <td>compact</td>\n",
              "      <td>convertible</td>\n",
              "      <td>28</td>\n",
              "      <td>19</td>\n",
              "      <td>3916</td>\n",
              "      <td>40650</td>\n",
              "      <td>10.61</td>\n",
              "    </tr>\n",
              "    <tr>\n",
              "      <th>2</th>\n",
              "      <td>bmw</td>\n",
              "      <td>1_series</td>\n",
              "      <td>2011</td>\n",
              "      <td>premium_unleaded_(required)</td>\n",
              "      <td>300.00</td>\n",
              "      <td>6.00</td>\n",
              "      <td>manual</td>\n",
              "      <td>rear_wheel_drive</td>\n",
              "      <td>2.00</td>\n",
              "      <td>luxury,high-performance</td>\n",
              "      <td>compact</td>\n",
              "      <td>coupe</td>\n",
              "      <td>28</td>\n",
              "      <td>20</td>\n",
              "      <td>3916</td>\n",
              "      <td>36350</td>\n",
              "      <td>10.50</td>\n",
              "    </tr>\n",
              "    <tr>\n",
              "      <th>3</th>\n",
              "      <td>bmw</td>\n",
              "      <td>1_series</td>\n",
              "      <td>2011</td>\n",
              "      <td>premium_unleaded_(required)</td>\n",
              "      <td>230.00</td>\n",
              "      <td>6.00</td>\n",
              "      <td>manual</td>\n",
              "      <td>rear_wheel_drive</td>\n",
              "      <td>2.00</td>\n",
              "      <td>luxury,performance</td>\n",
              "      <td>compact</td>\n",
              "      <td>coupe</td>\n",
              "      <td>28</td>\n",
              "      <td>18</td>\n",
              "      <td>3916</td>\n",
              "      <td>29450</td>\n",
              "      <td>10.29</td>\n",
              "    </tr>\n",
              "    <tr>\n",
              "      <th>4</th>\n",
              "      <td>bmw</td>\n",
              "      <td>1_series</td>\n",
              "      <td>2011</td>\n",
              "      <td>premium_unleaded_(required)</td>\n",
              "      <td>230.00</td>\n",
              "      <td>6.00</td>\n",
              "      <td>manual</td>\n",
              "      <td>rear_wheel_drive</td>\n",
              "      <td>2.00</td>\n",
              "      <td>luxury</td>\n",
              "      <td>compact</td>\n",
              "      <td>convertible</td>\n",
              "      <td>28</td>\n",
              "      <td>18</td>\n",
              "      <td>3916</td>\n",
              "      <td>34500</td>\n",
              "      <td>10.45</td>\n",
              "    </tr>\n",
              "  </tbody>\n",
              "</table>\n",
              "</div>\n",
              "      <button class=\"colab-df-convert\" onclick=\"convertToInteractive('df-5b9e0ac4-55e4-4ec2-aa30-e16bd3114a5f')\"\n",
              "              title=\"Convert this dataframe to an interactive table.\"\n",
              "              style=\"display:none;\">\n",
              "        \n",
              "  <svg xmlns=\"http://www.w3.org/2000/svg\" height=\"24px\"viewBox=\"0 0 24 24\"\n",
              "       width=\"24px\">\n",
              "    <path d=\"M0 0h24v24H0V0z\" fill=\"none\"/>\n",
              "    <path d=\"M18.56 5.44l.94 2.06.94-2.06 2.06-.94-2.06-.94-.94-2.06-.94 2.06-2.06.94zm-11 1L8.5 8.5l.94-2.06 2.06-.94-2.06-.94L8.5 2.5l-.94 2.06-2.06.94zm10 10l.94 2.06.94-2.06 2.06-.94-2.06-.94-.94-2.06-.94 2.06-2.06.94z\"/><path d=\"M17.41 7.96l-1.37-1.37c-.4-.4-.92-.59-1.43-.59-.52 0-1.04.2-1.43.59L10.3 9.45l-7.72 7.72c-.78.78-.78 2.05 0 2.83L4 21.41c.39.39.9.59 1.41.59.51 0 1.02-.2 1.41-.59l7.78-7.78 2.81-2.81c.8-.78.8-2.07 0-2.86zM5.41 20L4 18.59l7.72-7.72 1.47 1.35L5.41 20z\"/>\n",
              "  </svg>\n",
              "      </button>\n",
              "      \n",
              "  <style>\n",
              "    .colab-df-container {\n",
              "      display:flex;\n",
              "      flex-wrap:wrap;\n",
              "      gap: 12px;\n",
              "    }\n",
              "\n",
              "    .colab-df-convert {\n",
              "      background-color: #E8F0FE;\n",
              "      border: none;\n",
              "      border-radius: 50%;\n",
              "      cursor: pointer;\n",
              "      display: none;\n",
              "      fill: #1967D2;\n",
              "      height: 32px;\n",
              "      padding: 0 0 0 0;\n",
              "      width: 32px;\n",
              "    }\n",
              "\n",
              "    .colab-df-convert:hover {\n",
              "      background-color: #E2EBFA;\n",
              "      box-shadow: 0px 1px 2px rgba(60, 64, 67, 0.3), 0px 1px 3px 1px rgba(60, 64, 67, 0.15);\n",
              "      fill: #174EA6;\n",
              "    }\n",
              "\n",
              "    [theme=dark] .colab-df-convert {\n",
              "      background-color: #3B4455;\n",
              "      fill: #D2E3FC;\n",
              "    }\n",
              "\n",
              "    [theme=dark] .colab-df-convert:hover {\n",
              "      background-color: #434B5C;\n",
              "      box-shadow: 0px 1px 3px 1px rgba(0, 0, 0, 0.15);\n",
              "      filter: drop-shadow(0px 1px 2px rgba(0, 0, 0, 0.3));\n",
              "      fill: #FFFFFF;\n",
              "    }\n",
              "  </style>\n",
              "\n",
              "      <script>\n",
              "        const buttonEl =\n",
              "          document.querySelector('#df-5b9e0ac4-55e4-4ec2-aa30-e16bd3114a5f button.colab-df-convert');\n",
              "        buttonEl.style.display =\n",
              "          google.colab.kernel.accessAllowed ? 'block' : 'none';\n",
              "\n",
              "        async function convertToInteractive(key) {\n",
              "          const element = document.querySelector('#df-5b9e0ac4-55e4-4ec2-aa30-e16bd3114a5f');\n",
              "          const dataTable =\n",
              "            await google.colab.kernel.invokeFunction('convertToInteractive',\n",
              "                                                     [key], {});\n",
              "          if (!dataTable) return;\n",
              "\n",
              "          const docLinkHtml = 'Like what you see? Visit the ' +\n",
              "            '<a target=\"_blank\" href=https://colab.research.google.com/notebooks/data_table.ipynb>data table notebook</a>'\n",
              "            + ' to learn more about interactive tables.';\n",
              "          element.innerHTML = '';\n",
              "          dataTable['output_type'] = 'display_data';\n",
              "          await google.colab.output.renderOutput(dataTable, element);\n",
              "          const docLink = document.createElement('div');\n",
              "          docLink.innerHTML = docLinkHtml;\n",
              "          element.appendChild(docLink);\n",
              "        }\n",
              "      </script>\n",
              "    </div>\n",
              "  </div>\n",
              "  "
            ]
          },
          "metadata": {},
          "execution_count": 20
        }
      ]
    },
    {
      "cell_type": "code",
      "execution_count": 21,
      "metadata": {
        "id": "PPDZaxT0Er25",
        "colab": {
          "base_uri": "https://localhost:8080/"
        },
        "outputId": "c3c29770-a745-4fa6-c7c3-f439bf3e16d9"
      },
      "outputs": [
        {
          "output_type": "execute_result",
          "data": {
            "text/plain": [
              "make                    0\n",
              "model                   0\n",
              "year                    0\n",
              "engine_fuel_type        3\n",
              "engine_hp              69\n",
              "engine_cylinders       30\n",
              "transmission_type       0\n",
              "driven_wheels           0\n",
              "number_of_doors         6\n",
              "market_category      3742\n",
              "vehicle_size            0\n",
              "vehicle_style           0\n",
              "highway_mpg             0\n",
              "city_mpg                0\n",
              "popularity              0\n",
              "price                   0\n",
              "log_price               0\n",
              "dtype: int64"
            ]
          },
          "metadata": {},
          "execution_count": 21
        }
      ],
      "source": [
        "df.isnull().sum()"
      ]
    },
    {
      "cell_type": "markdown",
      "source": [
        "> we have missing values( numerical and categorical). \n",
        "\n",
        "> But at least, Our target (price) has no missing values. "
      ],
      "metadata": {
        "id": "tvsn17uY95dT"
      }
    },
    {
      "cell_type": "markdown",
      "source": [
        "1) for numerical features"
      ],
      "metadata": {
        "id": "o4TXp8Kce6_I"
      }
    },
    {
      "cell_type": "code",
      "source": [
        "df['engine_hp'].replace(np.NaN , df['engine_hp'].mean(),inplace=True)"
      ],
      "metadata": {
        "id": "Ybn1BNPIcMad"
      },
      "execution_count": 22,
      "outputs": []
    },
    {
      "cell_type": "code",
      "source": [
        "df['engine_cylinders'].replace(np.NaN , df['engine_cylinders'].mean(),inplace=True)"
      ],
      "metadata": {
        "id": "UVtqT4aOeM7f"
      },
      "execution_count": 23,
      "outputs": []
    },
    {
      "cell_type": "code",
      "source": [
        "df['number_of_doors'].replace(np.NaN , df['number_of_doors'].mean(),inplace=True)"
      ],
      "metadata": {
        "id": "YyFmazQceMyb"
      },
      "execution_count": 24,
      "outputs": []
    },
    {
      "cell_type": "code",
      "source": [
        "df.isnull().sum()"
      ],
      "metadata": {
        "id": "85xsoa9kbZhB",
        "outputId": "1368f787-c596-49e6-ee82-272efd482ba9",
        "colab": {
          "base_uri": "https://localhost:8080/"
        }
      },
      "execution_count": 25,
      "outputs": [
        {
          "output_type": "execute_result",
          "data": {
            "text/plain": [
              "make                    0\n",
              "model                   0\n",
              "year                    0\n",
              "engine_fuel_type        3\n",
              "engine_hp               0\n",
              "engine_cylinders        0\n",
              "transmission_type       0\n",
              "driven_wheels           0\n",
              "number_of_doors         0\n",
              "market_category      3742\n",
              "vehicle_size            0\n",
              "vehicle_style           0\n",
              "highway_mpg             0\n",
              "city_mpg                0\n",
              "popularity              0\n",
              "price                   0\n",
              "log_price               0\n",
              "dtype: int64"
            ]
          },
          "metadata": {},
          "execution_count": 25
        }
      ]
    },
    {
      "cell_type": "code",
      "source": [
        "print(df['engine_fuel_type'].mode())\n",
        "print(df['market_category'].mode())"
      ],
      "metadata": {
        "id": "LuVb0r-ubZeo",
        "outputId": "f94a4ecf-97dc-46d6-e93e-e4977a399fc6",
        "colab": {
          "base_uri": "https://localhost:8080/"
        }
      },
      "execution_count": 26,
      "outputs": [
        {
          "output_type": "stream",
          "name": "stdout",
          "text": [
            "0    regular_unleaded\n",
            "dtype: object\n",
            "0    crossover\n",
            "dtype: object\n"
          ]
        }
      ]
    },
    {
      "cell_type": "code",
      "source": [
        "df[\"engine_fuel_type\"].fillna(df['engine_fuel_type'].mode().iloc[0],inplace=True)"
      ],
      "metadata": {
        "id": "38RnUAmQbZcE"
      },
      "execution_count": 27,
      "outputs": []
    },
    {
      "cell_type": "markdown",
      "source": [
        "**market category has a lot of null values we will remove the column because it is not helpful in training data**"
      ],
      "metadata": {
        "id": "D3zYfO7b3bt4"
      }
    },
    {
      "cell_type": "code",
      "source": [
        "df.drop('market_category', axis=1,inplace=True)"
      ],
      "metadata": {
        "id": "FI8FZlSi3Ld9"
      },
      "execution_count": 28,
      "outputs": []
    },
    {
      "cell_type": "code",
      "source": [
        "df.isnull().sum()"
      ],
      "metadata": {
        "id": "iVtGAuBrsUOz",
        "outputId": "8c8f2a1c-ebc2-4876-df64-322299ce51c9",
        "colab": {
          "base_uri": "https://localhost:8080/"
        }
      },
      "execution_count": 29,
      "outputs": [
        {
          "output_type": "execute_result",
          "data": {
            "text/plain": [
              "make                 0\n",
              "model                0\n",
              "year                 0\n",
              "engine_fuel_type     0\n",
              "engine_hp            0\n",
              "engine_cylinders     0\n",
              "transmission_type    0\n",
              "driven_wheels        0\n",
              "number_of_doors      0\n",
              "vehicle_size         0\n",
              "vehicle_style        0\n",
              "highway_mpg          0\n",
              "city_mpg             0\n",
              "popularity           0\n",
              "price                0\n",
              "log_price            0\n",
              "dtype: int64"
            ]
          },
          "metadata": {},
          "execution_count": 29
        }
      ]
    },
    {
      "cell_type": "markdown",
      "source": [
        "## Check categorical columns"
      ],
      "metadata": {
        "id": "_-gY5uit8MAA"
      }
    },
    {
      "cell_type": "code",
      "source": [
        "string_columns"
      ],
      "metadata": {
        "colab": {
          "base_uri": "https://localhost:8080/"
        },
        "id": "3sGNFiKa8Hx5",
        "outputId": "cdb99254-1592-4d15-fb88-30255a6b8e5c"
      },
      "execution_count": 30,
      "outputs": [
        {
          "output_type": "execute_result",
          "data": {
            "text/plain": [
              "['make',\n",
              " 'model',\n",
              " 'engine_fuel_type',\n",
              " 'transmission_type',\n",
              " 'driven_wheels',\n",
              " 'market_category',\n",
              " 'vehicle_size',\n",
              " 'vehicle_style']"
            ]
          },
          "metadata": {},
          "execution_count": 30
        }
      ]
    },
    {
      "cell_type": "markdown",
      "source": [
        "> Keep in mind that we will need to handle categorical columns ( to be transformed into numerical form)"
      ],
      "metadata": {
        "id": "RWZ3g1ZS8Q75"
      }
    },
    {
      "cell_type": "markdown",
      "source": [
        "## Some Questions"
      ],
      "metadata": {
        "id": "wq4akXYj7yGB"
      }
    },
    {
      "cell_type": "markdown",
      "source": [
        "### What's the average price of BMW cars in the dataset?"
      ],
      "metadata": {
        "id": "3nxX_JHg5wxy"
      }
    },
    {
      "cell_type": "code",
      "source": [
        "df.make.value_counts()"
      ],
      "metadata": {
        "colab": {
          "base_uri": "https://localhost:8080/"
        },
        "id": "WGr1g-vb5zhY",
        "outputId": "61abba9e-9568-4688-c62d-ff4726bd99ca"
      },
      "execution_count": 31,
      "outputs": [
        {
          "output_type": "execute_result",
          "data": {
            "text/plain": [
              "chevrolet        1123\n",
              "ford              881\n",
              "volkswagen        809\n",
              "toyota            746\n",
              "dodge             626\n",
              "nissan            558\n",
              "gmc               515\n",
              "honda             449\n",
              "mazda             423\n",
              "cadillac          397\n",
              "mercedes-benz     353\n",
              "suzuki            351\n",
              "bmw               334\n",
              "infiniti          330\n",
              "audi              328\n",
              "hyundai           303\n",
              "volvo             281\n",
              "subaru            256\n",
              "acura             252\n",
              "kia               231\n",
              "mitsubishi        213\n",
              "lexus             202\n",
              "buick             196\n",
              "chrysler          187\n",
              "pontiac           186\n",
              "lincoln           164\n",
              "oldsmobile        150\n",
              "land_rover        143\n",
              "porsche           136\n",
              "saab              111\n",
              "aston_martin       93\n",
              "plymouth           82\n",
              "bentley            74\n",
              "ferrari            69\n",
              "fiat               62\n",
              "scion              60\n",
              "maserati           58\n",
              "lamborghini        52\n",
              "rolls-royce        31\n",
              "lotus              29\n",
              "tesla              18\n",
              "hummer             17\n",
              "maybach            16\n",
              "alfa_romeo          5\n",
              "mclaren             5\n",
              "spyker              3\n",
              "genesis             3\n",
              "bugatti             3\n",
              "Name: make, dtype: int64"
            ]
          },
          "metadata": {},
          "execution_count": 31
        }
      ]
    },
    {
      "cell_type": "code",
      "source": [
        "df.groupby('make').mean()"
      ],
      "metadata": {
        "colab": {
          "base_uri": "https://localhost:8080/",
          "height": 1000
        },
        "id": "p6hsCRO66Ubo",
        "outputId": "cbcee6d6-0ae1-43b1-b375-c921f0b745e0"
      },
      "execution_count": 32,
      "outputs": [
        {
          "output_type": "execute_result",
          "data": {
            "text/plain": [
              "                  year  engine_hp  engine_cylinders  number_of_doors  \\\n",
              "make                                                                   \n",
              "acura         2,010.06     244.80              5.33             3.62   \n",
              "alfa_romeo    2,015.40     237.00              4.00             2.00   \n",
              "aston_martin  2,013.02     484.32             10.62             2.15   \n",
              "audi          2,012.23     277.70              5.56             3.47   \n",
              "bentley       2,011.70     533.85              9.73             2.68   \n",
              "bmw           2,014.35     326.91              5.96             3.16   \n",
              "bugatti       2,008.33   1,001.00             16.00             2.00   \n",
              "buick         2,010.01     219.24              5.32             3.84   \n",
              "cadillac      2,013.15     332.31              6.43             3.60   \n",
              "chevrolet     2,010.09     246.99              5.91             3.38   \n",
              "chrysler      2,008.46     229.14              5.59             3.63   \n",
              "dodge         2,005.44     244.42              6.26             3.21   \n",
              "ferrari       2,007.52     511.96              9.80             2.02   \n",
              "fiat          2,016.03     148.68              3.81             2.90   \n",
              "ford          2,009.74     243.19              5.91             3.38   \n",
              "genesis       2,017.00     347.33              6.67             4.00   \n",
              "gmc           2,009.13     259.84              6.45             3.50   \n",
              "honda         2,013.42     195.99              4.66             3.54   \n",
              "hummer        2,009.35     261.24              6.06             4.00   \n",
              "hyundai       2,012.70     201.92              4.67             3.50   \n",
              "infiniti      2,010.96     310.07              6.15             3.55   \n",
              "kia           2,013.61     207.75              4.59             3.94   \n",
              "lamborghini   2,012.73     614.08             10.88             2.00   \n",
              "land_rover    2,012.67     322.10              6.13             3.79   \n",
              "lexus         2,011.62     277.42              6.25             3.71   \n",
              "lincoln       2,011.57     283.18              6.07             3.85   \n",
              "lotus         2,010.83     275.97              5.24             2.00   \n",
              "maserati      2,012.78     420.79              7.34             2.79   \n",
              "maybach       2,010.94     590.50             12.00             4.00   \n",
              "mazda         2,008.36     171.99              4.66             3.46   \n",
              "mclaren       2,014.20     610.40              8.00             2.00   \n",
              "mercedes-benz 2,010.52     349.90              6.71             3.35   \n",
              "mitsubishi    2,009.16     173.79              4.69             3.60   \n",
              "nissan        2,012.40     240.09              5.34             3.43   \n",
              "oldsmobile    1,997.61     177.47              5.57             3.57   \n",
              "plymouth      1,995.46     131.56              4.39             3.21   \n",
              "pontiac       2,003.10     190.30              5.48             3.19   \n",
              "porsche       2,013.38     392.79              6.13             2.65   \n",
              "rolls-royce   2,012.52     487.55             11.87             3.29   \n",
              "saab          2,006.08     220.52              4.54             3.48   \n",
              "scion         2,013.42     154.43              4.00             3.00   \n",
              "spyker        2,009.00     400.00              8.00             2.00   \n",
              "subaru        2,011.25     197.31              4.37             3.77   \n",
              "suzuki        2,006.31     160.29              4.55             3.82   \n",
              "tesla         2,015.28     249.39              0.00             3.84   \n",
              "toyota        2,012.54     236.18              5.60             3.59   \n",
              "volkswagen    2,012.81     189.76              4.37             3.22   \n",
              "volvo         2,008.06     230.97              4.72             3.91   \n",
              "\n",
              "               highway_mpg  city_mpg  popularity        price  log_price  \n",
              "make                                                                      \n",
              "acura                28.11     19.94      204.00    34,887.59      10.14  \n",
              "alfa_romeo           34.00     24.00      113.00    61,600.00      11.02  \n",
              "aston_martin         18.89     12.53      259.00   197,910.38      12.14  \n",
              "audi                 28.82     19.59    3,105.00    53,452.11      10.48  \n",
              "bentley              18.91     11.55      520.00   247,169.32      12.40  \n",
              "bmw                  29.25     20.74    3,916.00    61,546.76      10.91  \n",
              "bugatti              14.00      8.00      820.00 1,757,223.67      14.37  \n",
              "buick                26.95     18.70      155.00    28,206.61       9.96  \n",
              "cadillac             25.24     17.36    1,624.00    56,231.32      10.81  \n",
              "chevrolet            25.82     19.02    1,385.00    28,350.39       9.96  \n",
              "chrysler             26.37     17.76    1,013.00    26,722.96       9.91  \n",
              "dodge                22.35     16.07    1,851.00    22,390.06       9.45  \n",
              "ferrari              15.72     10.57    2,774.00   238,218.84      12.34  \n",
              "fiat                 37.34     30.65      819.00    22,670.24      10.02  \n",
              "ford                 24.01     17.96    5,657.00    27,399.27       9.88  \n",
              "genesis              25.33     16.33       21.00    46,616.67      10.74  \n",
              "gmc                  21.40     15.81      549.00    30,493.30       9.99  \n",
              "honda                32.57     25.44    2,202.00    26,674.34      10.09  \n",
              "hummer               17.29     13.53      130.00    36,464.41      10.50  \n",
              "hyundai              30.39     22.34    1,439.00    24,597.04       9.96  \n",
              "infiniti             24.78     17.83      190.00    42,394.21      10.52  \n",
              "kia                  30.65     23.85    1,720.00    25,310.17      10.05  \n",
              "lamborghini          18.02     11.52    1,158.00   331,567.31      12.61  \n",
              "land_rover           22.13     16.23      258.00    67,823.22      10.99  \n",
              "lexus                25.88     20.31      454.00    47,549.07      10.57  \n",
              "lincoln              24.49     17.89       61.00    42,839.83      10.49  \n",
              "lotus                26.55     18.76      613.00    69,188.28      11.12  \n",
              "maserati             20.29     13.33      238.00   114,207.71      11.61  \n",
              "maybach              16.00     10.00       67.00   546,221.88      13.11  \n",
              "mazda                27.85     21.25      586.00    20,039.38       9.63  \n",
              "mclaren              22.20     15.60      416.00   239,805.00      12.38  \n",
              "mercedes-benz        24.83     18.18      617.00    71,476.23      10.55  \n",
              "mitsubishi           27.54     21.91      436.00    21,240.54       9.75  \n",
              "nissan               27.80     21.87    2,009.00    28,583.43       9.99  \n",
              "oldsmobile           26.23     17.61       26.00    11,542.54       8.59  \n",
              "plymouth             27.96     20.79      535.00     3,122.90       7.73  \n",
              "pontiac              27.07     18.68      210.00    19,321.55       9.52  \n",
              "porsche              25.37     17.47    1,715.00   101,622.40      11.23  \n",
              "rolls-royce          19.13     11.84       86.00   351,130.65      12.74  \n",
              "saab                 26.35     17.77      376.00    27,413.50       9.67  \n",
              "scion                32.30     25.32      105.00    19,932.50       9.87  \n",
              "spyker               18.00     13.00        2.00   213,323.33      12.27  \n",
              "subaru               28.68     21.79      640.00    24,827.50       9.91  \n",
              "suzuki               26.03     19.91      481.00    17,907.21       9.61  \n",
              "tesla                98.94     94.11    1,391.00    85,255.56      11.33  \n",
              "toyota               26.45     21.55    2,031.00    29,030.02      10.06  \n",
              "volkswagen           32.13     23.58      873.00    28,102.38      10.14  \n",
              "volvo                27.20     19.58      870.00    28,541.16       9.64  "
            ],
            "text/html": [
              "\n",
              "  <div id=\"df-3bb7d7c4-a520-4510-b6c4-8b17792f4916\">\n",
              "    <div class=\"colab-df-container\">\n",
              "      <div>\n",
              "<style scoped>\n",
              "    .dataframe tbody tr th:only-of-type {\n",
              "        vertical-align: middle;\n",
              "    }\n",
              "\n",
              "    .dataframe tbody tr th {\n",
              "        vertical-align: top;\n",
              "    }\n",
              "\n",
              "    .dataframe thead th {\n",
              "        text-align: right;\n",
              "    }\n",
              "</style>\n",
              "<table border=\"1\" class=\"dataframe\">\n",
              "  <thead>\n",
              "    <tr style=\"text-align: right;\">\n",
              "      <th></th>\n",
              "      <th>year</th>\n",
              "      <th>engine_hp</th>\n",
              "      <th>engine_cylinders</th>\n",
              "      <th>number_of_doors</th>\n",
              "      <th>highway_mpg</th>\n",
              "      <th>city_mpg</th>\n",
              "      <th>popularity</th>\n",
              "      <th>price</th>\n",
              "      <th>log_price</th>\n",
              "    </tr>\n",
              "    <tr>\n",
              "      <th>make</th>\n",
              "      <th></th>\n",
              "      <th></th>\n",
              "      <th></th>\n",
              "      <th></th>\n",
              "      <th></th>\n",
              "      <th></th>\n",
              "      <th></th>\n",
              "      <th></th>\n",
              "      <th></th>\n",
              "    </tr>\n",
              "  </thead>\n",
              "  <tbody>\n",
              "    <tr>\n",
              "      <th>acura</th>\n",
              "      <td>2,010.06</td>\n",
              "      <td>244.80</td>\n",
              "      <td>5.33</td>\n",
              "      <td>3.62</td>\n",
              "      <td>28.11</td>\n",
              "      <td>19.94</td>\n",
              "      <td>204.00</td>\n",
              "      <td>34,887.59</td>\n",
              "      <td>10.14</td>\n",
              "    </tr>\n",
              "    <tr>\n",
              "      <th>alfa_romeo</th>\n",
              "      <td>2,015.40</td>\n",
              "      <td>237.00</td>\n",
              "      <td>4.00</td>\n",
              "      <td>2.00</td>\n",
              "      <td>34.00</td>\n",
              "      <td>24.00</td>\n",
              "      <td>113.00</td>\n",
              "      <td>61,600.00</td>\n",
              "      <td>11.02</td>\n",
              "    </tr>\n",
              "    <tr>\n",
              "      <th>aston_martin</th>\n",
              "      <td>2,013.02</td>\n",
              "      <td>484.32</td>\n",
              "      <td>10.62</td>\n",
              "      <td>2.15</td>\n",
              "      <td>18.89</td>\n",
              "      <td>12.53</td>\n",
              "      <td>259.00</td>\n",
              "      <td>197,910.38</td>\n",
              "      <td>12.14</td>\n",
              "    </tr>\n",
              "    <tr>\n",
              "      <th>audi</th>\n",
              "      <td>2,012.23</td>\n",
              "      <td>277.70</td>\n",
              "      <td>5.56</td>\n",
              "      <td>3.47</td>\n",
              "      <td>28.82</td>\n",
              "      <td>19.59</td>\n",
              "      <td>3,105.00</td>\n",
              "      <td>53,452.11</td>\n",
              "      <td>10.48</td>\n",
              "    </tr>\n",
              "    <tr>\n",
              "      <th>bentley</th>\n",
              "      <td>2,011.70</td>\n",
              "      <td>533.85</td>\n",
              "      <td>9.73</td>\n",
              "      <td>2.68</td>\n",
              "      <td>18.91</td>\n",
              "      <td>11.55</td>\n",
              "      <td>520.00</td>\n",
              "      <td>247,169.32</td>\n",
              "      <td>12.40</td>\n",
              "    </tr>\n",
              "    <tr>\n",
              "      <th>bmw</th>\n",
              "      <td>2,014.35</td>\n",
              "      <td>326.91</td>\n",
              "      <td>5.96</td>\n",
              "      <td>3.16</td>\n",
              "      <td>29.25</td>\n",
              "      <td>20.74</td>\n",
              "      <td>3,916.00</td>\n",
              "      <td>61,546.76</td>\n",
              "      <td>10.91</td>\n",
              "    </tr>\n",
              "    <tr>\n",
              "      <th>bugatti</th>\n",
              "      <td>2,008.33</td>\n",
              "      <td>1,001.00</td>\n",
              "      <td>16.00</td>\n",
              "      <td>2.00</td>\n",
              "      <td>14.00</td>\n",
              "      <td>8.00</td>\n",
              "      <td>820.00</td>\n",
              "      <td>1,757,223.67</td>\n",
              "      <td>14.37</td>\n",
              "    </tr>\n",
              "    <tr>\n",
              "      <th>buick</th>\n",
              "      <td>2,010.01</td>\n",
              "      <td>219.24</td>\n",
              "      <td>5.32</td>\n",
              "      <td>3.84</td>\n",
              "      <td>26.95</td>\n",
              "      <td>18.70</td>\n",
              "      <td>155.00</td>\n",
              "      <td>28,206.61</td>\n",
              "      <td>9.96</td>\n",
              "    </tr>\n",
              "    <tr>\n",
              "      <th>cadillac</th>\n",
              "      <td>2,013.15</td>\n",
              "      <td>332.31</td>\n",
              "      <td>6.43</td>\n",
              "      <td>3.60</td>\n",
              "      <td>25.24</td>\n",
              "      <td>17.36</td>\n",
              "      <td>1,624.00</td>\n",
              "      <td>56,231.32</td>\n",
              "      <td>10.81</td>\n",
              "    </tr>\n",
              "    <tr>\n",
              "      <th>chevrolet</th>\n",
              "      <td>2,010.09</td>\n",
              "      <td>246.99</td>\n",
              "      <td>5.91</td>\n",
              "      <td>3.38</td>\n",
              "      <td>25.82</td>\n",
              "      <td>19.02</td>\n",
              "      <td>1,385.00</td>\n",
              "      <td>28,350.39</td>\n",
              "      <td>9.96</td>\n",
              "    </tr>\n",
              "    <tr>\n",
              "      <th>chrysler</th>\n",
              "      <td>2,008.46</td>\n",
              "      <td>229.14</td>\n",
              "      <td>5.59</td>\n",
              "      <td>3.63</td>\n",
              "      <td>26.37</td>\n",
              "      <td>17.76</td>\n",
              "      <td>1,013.00</td>\n",
              "      <td>26,722.96</td>\n",
              "      <td>9.91</td>\n",
              "    </tr>\n",
              "    <tr>\n",
              "      <th>dodge</th>\n",
              "      <td>2,005.44</td>\n",
              "      <td>244.42</td>\n",
              "      <td>6.26</td>\n",
              "      <td>3.21</td>\n",
              "      <td>22.35</td>\n",
              "      <td>16.07</td>\n",
              "      <td>1,851.00</td>\n",
              "      <td>22,390.06</td>\n",
              "      <td>9.45</td>\n",
              "    </tr>\n",
              "    <tr>\n",
              "      <th>ferrari</th>\n",
              "      <td>2,007.52</td>\n",
              "      <td>511.96</td>\n",
              "      <td>9.80</td>\n",
              "      <td>2.02</td>\n",
              "      <td>15.72</td>\n",
              "      <td>10.57</td>\n",
              "      <td>2,774.00</td>\n",
              "      <td>238,218.84</td>\n",
              "      <td>12.34</td>\n",
              "    </tr>\n",
              "    <tr>\n",
              "      <th>fiat</th>\n",
              "      <td>2,016.03</td>\n",
              "      <td>148.68</td>\n",
              "      <td>3.81</td>\n",
              "      <td>2.90</td>\n",
              "      <td>37.34</td>\n",
              "      <td>30.65</td>\n",
              "      <td>819.00</td>\n",
              "      <td>22,670.24</td>\n",
              "      <td>10.02</td>\n",
              "    </tr>\n",
              "    <tr>\n",
              "      <th>ford</th>\n",
              "      <td>2,009.74</td>\n",
              "      <td>243.19</td>\n",
              "      <td>5.91</td>\n",
              "      <td>3.38</td>\n",
              "      <td>24.01</td>\n",
              "      <td>17.96</td>\n",
              "      <td>5,657.00</td>\n",
              "      <td>27,399.27</td>\n",
              "      <td>9.88</td>\n",
              "    </tr>\n",
              "    <tr>\n",
              "      <th>genesis</th>\n",
              "      <td>2,017.00</td>\n",
              "      <td>347.33</td>\n",
              "      <td>6.67</td>\n",
              "      <td>4.00</td>\n",
              "      <td>25.33</td>\n",
              "      <td>16.33</td>\n",
              "      <td>21.00</td>\n",
              "      <td>46,616.67</td>\n",
              "      <td>10.74</td>\n",
              "    </tr>\n",
              "    <tr>\n",
              "      <th>gmc</th>\n",
              "      <td>2,009.13</td>\n",
              "      <td>259.84</td>\n",
              "      <td>6.45</td>\n",
              "      <td>3.50</td>\n",
              "      <td>21.40</td>\n",
              "      <td>15.81</td>\n",
              "      <td>549.00</td>\n",
              "      <td>30,493.30</td>\n",
              "      <td>9.99</td>\n",
              "    </tr>\n",
              "    <tr>\n",
              "      <th>honda</th>\n",
              "      <td>2,013.42</td>\n",
              "      <td>195.99</td>\n",
              "      <td>4.66</td>\n",
              "      <td>3.54</td>\n",
              "      <td>32.57</td>\n",
              "      <td>25.44</td>\n",
              "      <td>2,202.00</td>\n",
              "      <td>26,674.34</td>\n",
              "      <td>10.09</td>\n",
              "    </tr>\n",
              "    <tr>\n",
              "      <th>hummer</th>\n",
              "      <td>2,009.35</td>\n",
              "      <td>261.24</td>\n",
              "      <td>6.06</td>\n",
              "      <td>4.00</td>\n",
              "      <td>17.29</td>\n",
              "      <td>13.53</td>\n",
              "      <td>130.00</td>\n",
              "      <td>36,464.41</td>\n",
              "      <td>10.50</td>\n",
              "    </tr>\n",
              "    <tr>\n",
              "      <th>hyundai</th>\n",
              "      <td>2,012.70</td>\n",
              "      <td>201.92</td>\n",
              "      <td>4.67</td>\n",
              "      <td>3.50</td>\n",
              "      <td>30.39</td>\n",
              "      <td>22.34</td>\n",
              "      <td>1,439.00</td>\n",
              "      <td>24,597.04</td>\n",
              "      <td>9.96</td>\n",
              "    </tr>\n",
              "    <tr>\n",
              "      <th>infiniti</th>\n",
              "      <td>2,010.96</td>\n",
              "      <td>310.07</td>\n",
              "      <td>6.15</td>\n",
              "      <td>3.55</td>\n",
              "      <td>24.78</td>\n",
              "      <td>17.83</td>\n",
              "      <td>190.00</td>\n",
              "      <td>42,394.21</td>\n",
              "      <td>10.52</td>\n",
              "    </tr>\n",
              "    <tr>\n",
              "      <th>kia</th>\n",
              "      <td>2,013.61</td>\n",
              "      <td>207.75</td>\n",
              "      <td>4.59</td>\n",
              "      <td>3.94</td>\n",
              "      <td>30.65</td>\n",
              "      <td>23.85</td>\n",
              "      <td>1,720.00</td>\n",
              "      <td>25,310.17</td>\n",
              "      <td>10.05</td>\n",
              "    </tr>\n",
              "    <tr>\n",
              "      <th>lamborghini</th>\n",
              "      <td>2,012.73</td>\n",
              "      <td>614.08</td>\n",
              "      <td>10.88</td>\n",
              "      <td>2.00</td>\n",
              "      <td>18.02</td>\n",
              "      <td>11.52</td>\n",
              "      <td>1,158.00</td>\n",
              "      <td>331,567.31</td>\n",
              "      <td>12.61</td>\n",
              "    </tr>\n",
              "    <tr>\n",
              "      <th>land_rover</th>\n",
              "      <td>2,012.67</td>\n",
              "      <td>322.10</td>\n",
              "      <td>6.13</td>\n",
              "      <td>3.79</td>\n",
              "      <td>22.13</td>\n",
              "      <td>16.23</td>\n",
              "      <td>258.00</td>\n",
              "      <td>67,823.22</td>\n",
              "      <td>10.99</td>\n",
              "    </tr>\n",
              "    <tr>\n",
              "      <th>lexus</th>\n",
              "      <td>2,011.62</td>\n",
              "      <td>277.42</td>\n",
              "      <td>6.25</td>\n",
              "      <td>3.71</td>\n",
              "      <td>25.88</td>\n",
              "      <td>20.31</td>\n",
              "      <td>454.00</td>\n",
              "      <td>47,549.07</td>\n",
              "      <td>10.57</td>\n",
              "    </tr>\n",
              "    <tr>\n",
              "      <th>lincoln</th>\n",
              "      <td>2,011.57</td>\n",
              "      <td>283.18</td>\n",
              "      <td>6.07</td>\n",
              "      <td>3.85</td>\n",
              "      <td>24.49</td>\n",
              "      <td>17.89</td>\n",
              "      <td>61.00</td>\n",
              "      <td>42,839.83</td>\n",
              "      <td>10.49</td>\n",
              "    </tr>\n",
              "    <tr>\n",
              "      <th>lotus</th>\n",
              "      <td>2,010.83</td>\n",
              "      <td>275.97</td>\n",
              "      <td>5.24</td>\n",
              "      <td>2.00</td>\n",
              "      <td>26.55</td>\n",
              "      <td>18.76</td>\n",
              "      <td>613.00</td>\n",
              "      <td>69,188.28</td>\n",
              "      <td>11.12</td>\n",
              "    </tr>\n",
              "    <tr>\n",
              "      <th>maserati</th>\n",
              "      <td>2,012.78</td>\n",
              "      <td>420.79</td>\n",
              "      <td>7.34</td>\n",
              "      <td>2.79</td>\n",
              "      <td>20.29</td>\n",
              "      <td>13.33</td>\n",
              "      <td>238.00</td>\n",
              "      <td>114,207.71</td>\n",
              "      <td>11.61</td>\n",
              "    </tr>\n",
              "    <tr>\n",
              "      <th>maybach</th>\n",
              "      <td>2,010.94</td>\n",
              "      <td>590.50</td>\n",
              "      <td>12.00</td>\n",
              "      <td>4.00</td>\n",
              "      <td>16.00</td>\n",
              "      <td>10.00</td>\n",
              "      <td>67.00</td>\n",
              "      <td>546,221.88</td>\n",
              "      <td>13.11</td>\n",
              "    </tr>\n",
              "    <tr>\n",
              "      <th>mazda</th>\n",
              "      <td>2,008.36</td>\n",
              "      <td>171.99</td>\n",
              "      <td>4.66</td>\n",
              "      <td>3.46</td>\n",
              "      <td>27.85</td>\n",
              "      <td>21.25</td>\n",
              "      <td>586.00</td>\n",
              "      <td>20,039.38</td>\n",
              "      <td>9.63</td>\n",
              "    </tr>\n",
              "    <tr>\n",
              "      <th>mclaren</th>\n",
              "      <td>2,014.20</td>\n",
              "      <td>610.40</td>\n",
              "      <td>8.00</td>\n",
              "      <td>2.00</td>\n",
              "      <td>22.20</td>\n",
              "      <td>15.60</td>\n",
              "      <td>416.00</td>\n",
              "      <td>239,805.00</td>\n",
              "      <td>12.38</td>\n",
              "    </tr>\n",
              "    <tr>\n",
              "      <th>mercedes-benz</th>\n",
              "      <td>2,010.52</td>\n",
              "      <td>349.90</td>\n",
              "      <td>6.71</td>\n",
              "      <td>3.35</td>\n",
              "      <td>24.83</td>\n",
              "      <td>18.18</td>\n",
              "      <td>617.00</td>\n",
              "      <td>71,476.23</td>\n",
              "      <td>10.55</td>\n",
              "    </tr>\n",
              "    <tr>\n",
              "      <th>mitsubishi</th>\n",
              "      <td>2,009.16</td>\n",
              "      <td>173.79</td>\n",
              "      <td>4.69</td>\n",
              "      <td>3.60</td>\n",
              "      <td>27.54</td>\n",
              "      <td>21.91</td>\n",
              "      <td>436.00</td>\n",
              "      <td>21,240.54</td>\n",
              "      <td>9.75</td>\n",
              "    </tr>\n",
              "    <tr>\n",
              "      <th>nissan</th>\n",
              "      <td>2,012.40</td>\n",
              "      <td>240.09</td>\n",
              "      <td>5.34</td>\n",
              "      <td>3.43</td>\n",
              "      <td>27.80</td>\n",
              "      <td>21.87</td>\n",
              "      <td>2,009.00</td>\n",
              "      <td>28,583.43</td>\n",
              "      <td>9.99</td>\n",
              "    </tr>\n",
              "    <tr>\n",
              "      <th>oldsmobile</th>\n",
              "      <td>1,997.61</td>\n",
              "      <td>177.47</td>\n",
              "      <td>5.57</td>\n",
              "      <td>3.57</td>\n",
              "      <td>26.23</td>\n",
              "      <td>17.61</td>\n",
              "      <td>26.00</td>\n",
              "      <td>11,542.54</td>\n",
              "      <td>8.59</td>\n",
              "    </tr>\n",
              "    <tr>\n",
              "      <th>plymouth</th>\n",
              "      <td>1,995.46</td>\n",
              "      <td>131.56</td>\n",
              "      <td>4.39</td>\n",
              "      <td>3.21</td>\n",
              "      <td>27.96</td>\n",
              "      <td>20.79</td>\n",
              "      <td>535.00</td>\n",
              "      <td>3,122.90</td>\n",
              "      <td>7.73</td>\n",
              "    </tr>\n",
              "    <tr>\n",
              "      <th>pontiac</th>\n",
              "      <td>2,003.10</td>\n",
              "      <td>190.30</td>\n",
              "      <td>5.48</td>\n",
              "      <td>3.19</td>\n",
              "      <td>27.07</td>\n",
              "      <td>18.68</td>\n",
              "      <td>210.00</td>\n",
              "      <td>19,321.55</td>\n",
              "      <td>9.52</td>\n",
              "    </tr>\n",
              "    <tr>\n",
              "      <th>porsche</th>\n",
              "      <td>2,013.38</td>\n",
              "      <td>392.79</td>\n",
              "      <td>6.13</td>\n",
              "      <td>2.65</td>\n",
              "      <td>25.37</td>\n",
              "      <td>17.47</td>\n",
              "      <td>1,715.00</td>\n",
              "      <td>101,622.40</td>\n",
              "      <td>11.23</td>\n",
              "    </tr>\n",
              "    <tr>\n",
              "      <th>rolls-royce</th>\n",
              "      <td>2,012.52</td>\n",
              "      <td>487.55</td>\n",
              "      <td>11.87</td>\n",
              "      <td>3.29</td>\n",
              "      <td>19.13</td>\n",
              "      <td>11.84</td>\n",
              "      <td>86.00</td>\n",
              "      <td>351,130.65</td>\n",
              "      <td>12.74</td>\n",
              "    </tr>\n",
              "    <tr>\n",
              "      <th>saab</th>\n",
              "      <td>2,006.08</td>\n",
              "      <td>220.52</td>\n",
              "      <td>4.54</td>\n",
              "      <td>3.48</td>\n",
              "      <td>26.35</td>\n",
              "      <td>17.77</td>\n",
              "      <td>376.00</td>\n",
              "      <td>27,413.50</td>\n",
              "      <td>9.67</td>\n",
              "    </tr>\n",
              "    <tr>\n",
              "      <th>scion</th>\n",
              "      <td>2,013.42</td>\n",
              "      <td>154.43</td>\n",
              "      <td>4.00</td>\n",
              "      <td>3.00</td>\n",
              "      <td>32.30</td>\n",
              "      <td>25.32</td>\n",
              "      <td>105.00</td>\n",
              "      <td>19,932.50</td>\n",
              "      <td>9.87</td>\n",
              "    </tr>\n",
              "    <tr>\n",
              "      <th>spyker</th>\n",
              "      <td>2,009.00</td>\n",
              "      <td>400.00</td>\n",
              "      <td>8.00</td>\n",
              "      <td>2.00</td>\n",
              "      <td>18.00</td>\n",
              "      <td>13.00</td>\n",
              "      <td>2.00</td>\n",
              "      <td>213,323.33</td>\n",
              "      <td>12.27</td>\n",
              "    </tr>\n",
              "    <tr>\n",
              "      <th>subaru</th>\n",
              "      <td>2,011.25</td>\n",
              "      <td>197.31</td>\n",
              "      <td>4.37</td>\n",
              "      <td>3.77</td>\n",
              "      <td>28.68</td>\n",
              "      <td>21.79</td>\n",
              "      <td>640.00</td>\n",
              "      <td>24,827.50</td>\n",
              "      <td>9.91</td>\n",
              "    </tr>\n",
              "    <tr>\n",
              "      <th>suzuki</th>\n",
              "      <td>2,006.31</td>\n",
              "      <td>160.29</td>\n",
              "      <td>4.55</td>\n",
              "      <td>3.82</td>\n",
              "      <td>26.03</td>\n",
              "      <td>19.91</td>\n",
              "      <td>481.00</td>\n",
              "      <td>17,907.21</td>\n",
              "      <td>9.61</td>\n",
              "    </tr>\n",
              "    <tr>\n",
              "      <th>tesla</th>\n",
              "      <td>2,015.28</td>\n",
              "      <td>249.39</td>\n",
              "      <td>0.00</td>\n",
              "      <td>3.84</td>\n",
              "      <td>98.94</td>\n",
              "      <td>94.11</td>\n",
              "      <td>1,391.00</td>\n",
              "      <td>85,255.56</td>\n",
              "      <td>11.33</td>\n",
              "    </tr>\n",
              "    <tr>\n",
              "      <th>toyota</th>\n",
              "      <td>2,012.54</td>\n",
              "      <td>236.18</td>\n",
              "      <td>5.60</td>\n",
              "      <td>3.59</td>\n",
              "      <td>26.45</td>\n",
              "      <td>21.55</td>\n",
              "      <td>2,031.00</td>\n",
              "      <td>29,030.02</td>\n",
              "      <td>10.06</td>\n",
              "    </tr>\n",
              "    <tr>\n",
              "      <th>volkswagen</th>\n",
              "      <td>2,012.81</td>\n",
              "      <td>189.76</td>\n",
              "      <td>4.37</td>\n",
              "      <td>3.22</td>\n",
              "      <td>32.13</td>\n",
              "      <td>23.58</td>\n",
              "      <td>873.00</td>\n",
              "      <td>28,102.38</td>\n",
              "      <td>10.14</td>\n",
              "    </tr>\n",
              "    <tr>\n",
              "      <th>volvo</th>\n",
              "      <td>2,008.06</td>\n",
              "      <td>230.97</td>\n",
              "      <td>4.72</td>\n",
              "      <td>3.91</td>\n",
              "      <td>27.20</td>\n",
              "      <td>19.58</td>\n",
              "      <td>870.00</td>\n",
              "      <td>28,541.16</td>\n",
              "      <td>9.64</td>\n",
              "    </tr>\n",
              "  </tbody>\n",
              "</table>\n",
              "</div>\n",
              "      <button class=\"colab-df-convert\" onclick=\"convertToInteractive('df-3bb7d7c4-a520-4510-b6c4-8b17792f4916')\"\n",
              "              title=\"Convert this dataframe to an interactive table.\"\n",
              "              style=\"display:none;\">\n",
              "        \n",
              "  <svg xmlns=\"http://www.w3.org/2000/svg\" height=\"24px\"viewBox=\"0 0 24 24\"\n",
              "       width=\"24px\">\n",
              "    <path d=\"M0 0h24v24H0V0z\" fill=\"none\"/>\n",
              "    <path d=\"M18.56 5.44l.94 2.06.94-2.06 2.06-.94-2.06-.94-.94-2.06-.94 2.06-2.06.94zm-11 1L8.5 8.5l.94-2.06 2.06-.94-2.06-.94L8.5 2.5l-.94 2.06-2.06.94zm10 10l.94 2.06.94-2.06 2.06-.94-2.06-.94-.94-2.06-.94 2.06-2.06.94z\"/><path d=\"M17.41 7.96l-1.37-1.37c-.4-.4-.92-.59-1.43-.59-.52 0-1.04.2-1.43.59L10.3 9.45l-7.72 7.72c-.78.78-.78 2.05 0 2.83L4 21.41c.39.39.9.59 1.41.59.51 0 1.02-.2 1.41-.59l7.78-7.78 2.81-2.81c.8-.78.8-2.07 0-2.86zM5.41 20L4 18.59l7.72-7.72 1.47 1.35L5.41 20z\"/>\n",
              "  </svg>\n",
              "      </button>\n",
              "      \n",
              "  <style>\n",
              "    .colab-df-container {\n",
              "      display:flex;\n",
              "      flex-wrap:wrap;\n",
              "      gap: 12px;\n",
              "    }\n",
              "\n",
              "    .colab-df-convert {\n",
              "      background-color: #E8F0FE;\n",
              "      border: none;\n",
              "      border-radius: 50%;\n",
              "      cursor: pointer;\n",
              "      display: none;\n",
              "      fill: #1967D2;\n",
              "      height: 32px;\n",
              "      padding: 0 0 0 0;\n",
              "      width: 32px;\n",
              "    }\n",
              "\n",
              "    .colab-df-convert:hover {\n",
              "      background-color: #E2EBFA;\n",
              "      box-shadow: 0px 1px 2px rgba(60, 64, 67, 0.3), 0px 1px 3px 1px rgba(60, 64, 67, 0.15);\n",
              "      fill: #174EA6;\n",
              "    }\n",
              "\n",
              "    [theme=dark] .colab-df-convert {\n",
              "      background-color: #3B4455;\n",
              "      fill: #D2E3FC;\n",
              "    }\n",
              "\n",
              "    [theme=dark] .colab-df-convert:hover {\n",
              "      background-color: #434B5C;\n",
              "      box-shadow: 0px 1px 3px 1px rgba(0, 0, 0, 0.15);\n",
              "      filter: drop-shadow(0px 1px 2px rgba(0, 0, 0, 0.3));\n",
              "      fill: #FFFFFF;\n",
              "    }\n",
              "  </style>\n",
              "\n",
              "      <script>\n",
              "        const buttonEl =\n",
              "          document.querySelector('#df-3bb7d7c4-a520-4510-b6c4-8b17792f4916 button.colab-df-convert');\n",
              "        buttonEl.style.display =\n",
              "          google.colab.kernel.accessAllowed ? 'block' : 'none';\n",
              "\n",
              "        async function convertToInteractive(key) {\n",
              "          const element = document.querySelector('#df-3bb7d7c4-a520-4510-b6c4-8b17792f4916');\n",
              "          const dataTable =\n",
              "            await google.colab.kernel.invokeFunction('convertToInteractive',\n",
              "                                                     [key], {});\n",
              "          if (!dataTable) return;\n",
              "\n",
              "          const docLinkHtml = 'Like what you see? Visit the ' +\n",
              "            '<a target=\"_blank\" href=https://colab.research.google.com/notebooks/data_table.ipynb>data table notebook</a>'\n",
              "            + ' to learn more about interactive tables.';\n",
              "          element.innerHTML = '';\n",
              "          dataTable['output_type'] = 'display_data';\n",
              "          await google.colab.output.renderOutput(dataTable, element);\n",
              "          const docLink = document.createElement('div');\n",
              "          docLink.innerHTML = docLinkHtml;\n",
              "          element.appendChild(docLink);\n",
              "        }\n",
              "      </script>\n",
              "    </div>\n",
              "  </div>\n",
              "  "
            ]
          },
          "metadata": {},
          "execution_count": 32
        }
      ]
    },
    {
      "cell_type": "code",
      "source": [
        "df.groupby('make').mean()['price']['bmw']"
      ],
      "metadata": {
        "colab": {
          "base_uri": "https://localhost:8080/"
        },
        "id": "9-16E5Li6nqw",
        "outputId": "8a15ae0d-6c32-43a9-826d-37309c645b9d"
      },
      "execution_count": 33,
      "outputs": [
        {
          "output_type": "execute_result",
          "data": {
            "text/plain": [
              "61546.76347305389"
            ]
          },
          "metadata": {},
          "execution_count": 33
        }
      ]
    },
    {
      "cell_type": "markdown",
      "source": [
        "### Compare the average price for cars before / after year 2015 \n",
        "\n"
      ],
      "metadata": {
        "id": "jiDiJFIF65rR"
      }
    },
    {
      "cell_type": "code",
      "source": [
        "df[df['year'] >= 2015]"
      ],
      "metadata": {
        "colab": {
          "base_uri": "https://localhost:8080/",
          "height": 488
        },
        "id": "mHvKAfYZ6_To",
        "outputId": "0050eea7-04d8-476b-d2fc-db3e70048c82"
      },
      "execution_count": 34,
      "outputs": [
        {
          "output_type": "execute_result",
          "data": {
            "text/plain": [
              "       make       model  year                engine_fuel_type  engine_hp  \\\n",
              "32     fiat  124_spider  2017  premium_unleaded_(recommended)     160.00   \n",
              "33     fiat  124_spider  2017  premium_unleaded_(recommended)     160.00   \n",
              "34     fiat  124_spider  2017  premium_unleaded_(recommended)     160.00   \n",
              "41      bmw    2_series  2016     premium_unleaded_(required)     240.00   \n",
              "42      bmw    2_series  2016     premium_unleaded_(required)     240.00   \n",
              "...     ...         ...   ...                             ...        ...   \n",
              "11898   bmw          z4  2015     premium_unleaded_(required)     300.00   \n",
              "11899   bmw          z4  2015     premium_unleaded_(required)     335.00   \n",
              "11900   bmw          z4  2016     premium_unleaded_(required)     300.00   \n",
              "11901   bmw          z4  2016     premium_unleaded_(required)     240.00   \n",
              "11902   bmw          z4  2016     premium_unleaded_(required)     335.00   \n",
              "\n",
              "       engine_cylinders transmission_type     driven_wheels  number_of_doors  \\\n",
              "32                 4.00            manual  rear_wheel_drive             2.00   \n",
              "33                 4.00            manual  rear_wheel_drive             2.00   \n",
              "34                 4.00            manual  rear_wheel_drive             2.00   \n",
              "41                 4.00         automatic  rear_wheel_drive             2.00   \n",
              "42                 4.00         automatic  rear_wheel_drive             2.00   \n",
              "...                 ...               ...               ...              ...   \n",
              "11898              6.00  automated_manual  rear_wheel_drive             2.00   \n",
              "11899              6.00  automated_manual  rear_wheel_drive             2.00   \n",
              "11900              6.00  automated_manual  rear_wheel_drive             2.00   \n",
              "11901              4.00            manual  rear_wheel_drive             2.00   \n",
              "11902              6.00  automated_manual  rear_wheel_drive             2.00   \n",
              "\n",
              "      vehicle_size vehicle_style  highway_mpg  city_mpg  popularity  price  \\\n",
              "32         compact   convertible           35        26         819  27495   \n",
              "33         compact   convertible           35        26         819  24995   \n",
              "34         compact   convertible           35        26         819  28195   \n",
              "41         compact         coupe           35        23        3916  32850   \n",
              "42         compact   convertible           34        23        3916  38650   \n",
              "...            ...           ...          ...       ...         ...    ...   \n",
              "11898      compact   convertible           24        17        3916  56950   \n",
              "11899      compact   convertible           24        17        3916  65800   \n",
              "11900      compact   convertible           24        17        3916  57500   \n",
              "11901      compact   convertible           34        22        3916  49700   \n",
              "11902      compact   convertible           24        17        3916  66350   \n",
              "\n",
              "       log_price  \n",
              "32         10.22  \n",
              "33         10.13  \n",
              "34         10.25  \n",
              "41         10.40  \n",
              "42         10.56  \n",
              "...          ...  \n",
              "11898      10.95  \n",
              "11899      11.09  \n",
              "11900      10.96  \n",
              "11901      10.81  \n",
              "11902      11.10  \n",
              "\n",
              "[5995 rows x 16 columns]"
            ],
            "text/html": [
              "\n",
              "  <div id=\"df-f8bc0e37-9fd3-4218-bf05-25c8018de620\">\n",
              "    <div class=\"colab-df-container\">\n",
              "      <div>\n",
              "<style scoped>\n",
              "    .dataframe tbody tr th:only-of-type {\n",
              "        vertical-align: middle;\n",
              "    }\n",
              "\n",
              "    .dataframe tbody tr th {\n",
              "        vertical-align: top;\n",
              "    }\n",
              "\n",
              "    .dataframe thead th {\n",
              "        text-align: right;\n",
              "    }\n",
              "</style>\n",
              "<table border=\"1\" class=\"dataframe\">\n",
              "  <thead>\n",
              "    <tr style=\"text-align: right;\">\n",
              "      <th></th>\n",
              "      <th>make</th>\n",
              "      <th>model</th>\n",
              "      <th>year</th>\n",
              "      <th>engine_fuel_type</th>\n",
              "      <th>engine_hp</th>\n",
              "      <th>engine_cylinders</th>\n",
              "      <th>transmission_type</th>\n",
              "      <th>driven_wheels</th>\n",
              "      <th>number_of_doors</th>\n",
              "      <th>vehicle_size</th>\n",
              "      <th>vehicle_style</th>\n",
              "      <th>highway_mpg</th>\n",
              "      <th>city_mpg</th>\n",
              "      <th>popularity</th>\n",
              "      <th>price</th>\n",
              "      <th>log_price</th>\n",
              "    </tr>\n",
              "  </thead>\n",
              "  <tbody>\n",
              "    <tr>\n",
              "      <th>32</th>\n",
              "      <td>fiat</td>\n",
              "      <td>124_spider</td>\n",
              "      <td>2017</td>\n",
              "      <td>premium_unleaded_(recommended)</td>\n",
              "      <td>160.00</td>\n",
              "      <td>4.00</td>\n",
              "      <td>manual</td>\n",
              "      <td>rear_wheel_drive</td>\n",
              "      <td>2.00</td>\n",
              "      <td>compact</td>\n",
              "      <td>convertible</td>\n",
              "      <td>35</td>\n",
              "      <td>26</td>\n",
              "      <td>819</td>\n",
              "      <td>27495</td>\n",
              "      <td>10.22</td>\n",
              "    </tr>\n",
              "    <tr>\n",
              "      <th>33</th>\n",
              "      <td>fiat</td>\n",
              "      <td>124_spider</td>\n",
              "      <td>2017</td>\n",
              "      <td>premium_unleaded_(recommended)</td>\n",
              "      <td>160.00</td>\n",
              "      <td>4.00</td>\n",
              "      <td>manual</td>\n",
              "      <td>rear_wheel_drive</td>\n",
              "      <td>2.00</td>\n",
              "      <td>compact</td>\n",
              "      <td>convertible</td>\n",
              "      <td>35</td>\n",
              "      <td>26</td>\n",
              "      <td>819</td>\n",
              "      <td>24995</td>\n",
              "      <td>10.13</td>\n",
              "    </tr>\n",
              "    <tr>\n",
              "      <th>34</th>\n",
              "      <td>fiat</td>\n",
              "      <td>124_spider</td>\n",
              "      <td>2017</td>\n",
              "      <td>premium_unleaded_(recommended)</td>\n",
              "      <td>160.00</td>\n",
              "      <td>4.00</td>\n",
              "      <td>manual</td>\n",
              "      <td>rear_wheel_drive</td>\n",
              "      <td>2.00</td>\n",
              "      <td>compact</td>\n",
              "      <td>convertible</td>\n",
              "      <td>35</td>\n",
              "      <td>26</td>\n",
              "      <td>819</td>\n",
              "      <td>28195</td>\n",
              "      <td>10.25</td>\n",
              "    </tr>\n",
              "    <tr>\n",
              "      <th>41</th>\n",
              "      <td>bmw</td>\n",
              "      <td>2_series</td>\n",
              "      <td>2016</td>\n",
              "      <td>premium_unleaded_(required)</td>\n",
              "      <td>240.00</td>\n",
              "      <td>4.00</td>\n",
              "      <td>automatic</td>\n",
              "      <td>rear_wheel_drive</td>\n",
              "      <td>2.00</td>\n",
              "      <td>compact</td>\n",
              "      <td>coupe</td>\n",
              "      <td>35</td>\n",
              "      <td>23</td>\n",
              "      <td>3916</td>\n",
              "      <td>32850</td>\n",
              "      <td>10.40</td>\n",
              "    </tr>\n",
              "    <tr>\n",
              "      <th>42</th>\n",
              "      <td>bmw</td>\n",
              "      <td>2_series</td>\n",
              "      <td>2016</td>\n",
              "      <td>premium_unleaded_(required)</td>\n",
              "      <td>240.00</td>\n",
              "      <td>4.00</td>\n",
              "      <td>automatic</td>\n",
              "      <td>rear_wheel_drive</td>\n",
              "      <td>2.00</td>\n",
              "      <td>compact</td>\n",
              "      <td>convertible</td>\n",
              "      <td>34</td>\n",
              "      <td>23</td>\n",
              "      <td>3916</td>\n",
              "      <td>38650</td>\n",
              "      <td>10.56</td>\n",
              "    </tr>\n",
              "    <tr>\n",
              "      <th>...</th>\n",
              "      <td>...</td>\n",
              "      <td>...</td>\n",
              "      <td>...</td>\n",
              "      <td>...</td>\n",
              "      <td>...</td>\n",
              "      <td>...</td>\n",
              "      <td>...</td>\n",
              "      <td>...</td>\n",
              "      <td>...</td>\n",
              "      <td>...</td>\n",
              "      <td>...</td>\n",
              "      <td>...</td>\n",
              "      <td>...</td>\n",
              "      <td>...</td>\n",
              "      <td>...</td>\n",
              "      <td>...</td>\n",
              "    </tr>\n",
              "    <tr>\n",
              "      <th>11898</th>\n",
              "      <td>bmw</td>\n",
              "      <td>z4</td>\n",
              "      <td>2015</td>\n",
              "      <td>premium_unleaded_(required)</td>\n",
              "      <td>300.00</td>\n",
              "      <td>6.00</td>\n",
              "      <td>automated_manual</td>\n",
              "      <td>rear_wheel_drive</td>\n",
              "      <td>2.00</td>\n",
              "      <td>compact</td>\n",
              "      <td>convertible</td>\n",
              "      <td>24</td>\n",
              "      <td>17</td>\n",
              "      <td>3916</td>\n",
              "      <td>56950</td>\n",
              "      <td>10.95</td>\n",
              "    </tr>\n",
              "    <tr>\n",
              "      <th>11899</th>\n",
              "      <td>bmw</td>\n",
              "      <td>z4</td>\n",
              "      <td>2015</td>\n",
              "      <td>premium_unleaded_(required)</td>\n",
              "      <td>335.00</td>\n",
              "      <td>6.00</td>\n",
              "      <td>automated_manual</td>\n",
              "      <td>rear_wheel_drive</td>\n",
              "      <td>2.00</td>\n",
              "      <td>compact</td>\n",
              "      <td>convertible</td>\n",
              "      <td>24</td>\n",
              "      <td>17</td>\n",
              "      <td>3916</td>\n",
              "      <td>65800</td>\n",
              "      <td>11.09</td>\n",
              "    </tr>\n",
              "    <tr>\n",
              "      <th>11900</th>\n",
              "      <td>bmw</td>\n",
              "      <td>z4</td>\n",
              "      <td>2016</td>\n",
              "      <td>premium_unleaded_(required)</td>\n",
              "      <td>300.00</td>\n",
              "      <td>6.00</td>\n",
              "      <td>automated_manual</td>\n",
              "      <td>rear_wheel_drive</td>\n",
              "      <td>2.00</td>\n",
              "      <td>compact</td>\n",
              "      <td>convertible</td>\n",
              "      <td>24</td>\n",
              "      <td>17</td>\n",
              "      <td>3916</td>\n",
              "      <td>57500</td>\n",
              "      <td>10.96</td>\n",
              "    </tr>\n",
              "    <tr>\n",
              "      <th>11901</th>\n",
              "      <td>bmw</td>\n",
              "      <td>z4</td>\n",
              "      <td>2016</td>\n",
              "      <td>premium_unleaded_(required)</td>\n",
              "      <td>240.00</td>\n",
              "      <td>4.00</td>\n",
              "      <td>manual</td>\n",
              "      <td>rear_wheel_drive</td>\n",
              "      <td>2.00</td>\n",
              "      <td>compact</td>\n",
              "      <td>convertible</td>\n",
              "      <td>34</td>\n",
              "      <td>22</td>\n",
              "      <td>3916</td>\n",
              "      <td>49700</td>\n",
              "      <td>10.81</td>\n",
              "    </tr>\n",
              "    <tr>\n",
              "      <th>11902</th>\n",
              "      <td>bmw</td>\n",
              "      <td>z4</td>\n",
              "      <td>2016</td>\n",
              "      <td>premium_unleaded_(required)</td>\n",
              "      <td>335.00</td>\n",
              "      <td>6.00</td>\n",
              "      <td>automated_manual</td>\n",
              "      <td>rear_wheel_drive</td>\n",
              "      <td>2.00</td>\n",
              "      <td>compact</td>\n",
              "      <td>convertible</td>\n",
              "      <td>24</td>\n",
              "      <td>17</td>\n",
              "      <td>3916</td>\n",
              "      <td>66350</td>\n",
              "      <td>11.10</td>\n",
              "    </tr>\n",
              "  </tbody>\n",
              "</table>\n",
              "<p>5995 rows × 16 columns</p>\n",
              "</div>\n",
              "      <button class=\"colab-df-convert\" onclick=\"convertToInteractive('df-f8bc0e37-9fd3-4218-bf05-25c8018de620')\"\n",
              "              title=\"Convert this dataframe to an interactive table.\"\n",
              "              style=\"display:none;\">\n",
              "        \n",
              "  <svg xmlns=\"http://www.w3.org/2000/svg\" height=\"24px\"viewBox=\"0 0 24 24\"\n",
              "       width=\"24px\">\n",
              "    <path d=\"M0 0h24v24H0V0z\" fill=\"none\"/>\n",
              "    <path d=\"M18.56 5.44l.94 2.06.94-2.06 2.06-.94-2.06-.94-.94-2.06-.94 2.06-2.06.94zm-11 1L8.5 8.5l.94-2.06 2.06-.94-2.06-.94L8.5 2.5l-.94 2.06-2.06.94zm10 10l.94 2.06.94-2.06 2.06-.94-2.06-.94-.94-2.06-.94 2.06-2.06.94z\"/><path d=\"M17.41 7.96l-1.37-1.37c-.4-.4-.92-.59-1.43-.59-.52 0-1.04.2-1.43.59L10.3 9.45l-7.72 7.72c-.78.78-.78 2.05 0 2.83L4 21.41c.39.39.9.59 1.41.59.51 0 1.02-.2 1.41-.59l7.78-7.78 2.81-2.81c.8-.78.8-2.07 0-2.86zM5.41 20L4 18.59l7.72-7.72 1.47 1.35L5.41 20z\"/>\n",
              "  </svg>\n",
              "      </button>\n",
              "      \n",
              "  <style>\n",
              "    .colab-df-container {\n",
              "      display:flex;\n",
              "      flex-wrap:wrap;\n",
              "      gap: 12px;\n",
              "    }\n",
              "\n",
              "    .colab-df-convert {\n",
              "      background-color: #E8F0FE;\n",
              "      border: none;\n",
              "      border-radius: 50%;\n",
              "      cursor: pointer;\n",
              "      display: none;\n",
              "      fill: #1967D2;\n",
              "      height: 32px;\n",
              "      padding: 0 0 0 0;\n",
              "      width: 32px;\n",
              "    }\n",
              "\n",
              "    .colab-df-convert:hover {\n",
              "      background-color: #E2EBFA;\n",
              "      box-shadow: 0px 1px 2px rgba(60, 64, 67, 0.3), 0px 1px 3px 1px rgba(60, 64, 67, 0.15);\n",
              "      fill: #174EA6;\n",
              "    }\n",
              "\n",
              "    [theme=dark] .colab-df-convert {\n",
              "      background-color: #3B4455;\n",
              "      fill: #D2E3FC;\n",
              "    }\n",
              "\n",
              "    [theme=dark] .colab-df-convert:hover {\n",
              "      background-color: #434B5C;\n",
              "      box-shadow: 0px 1px 3px 1px rgba(0, 0, 0, 0.15);\n",
              "      filter: drop-shadow(0px 1px 2px rgba(0, 0, 0, 0.3));\n",
              "      fill: #FFFFFF;\n",
              "    }\n",
              "  </style>\n",
              "\n",
              "      <script>\n",
              "        const buttonEl =\n",
              "          document.querySelector('#df-f8bc0e37-9fd3-4218-bf05-25c8018de620 button.colab-df-convert');\n",
              "        buttonEl.style.display =\n",
              "          google.colab.kernel.accessAllowed ? 'block' : 'none';\n",
              "\n",
              "        async function convertToInteractive(key) {\n",
              "          const element = document.querySelector('#df-f8bc0e37-9fd3-4218-bf05-25c8018de620');\n",
              "          const dataTable =\n",
              "            await google.colab.kernel.invokeFunction('convertToInteractive',\n",
              "                                                     [key], {});\n",
              "          if (!dataTable) return;\n",
              "\n",
              "          const docLinkHtml = 'Like what you see? Visit the ' +\n",
              "            '<a target=\"_blank\" href=https://colab.research.google.com/notebooks/data_table.ipynb>data table notebook</a>'\n",
              "            + ' to learn more about interactive tables.';\n",
              "          element.innerHTML = '';\n",
              "          dataTable['output_type'] = 'display_data';\n",
              "          await google.colab.output.renderOutput(dataTable, element);\n",
              "          const docLink = document.createElement('div');\n",
              "          docLink.innerHTML = docLinkHtml;\n",
              "          element.appendChild(docLink);\n",
              "        }\n",
              "      </script>\n",
              "    </div>\n",
              "  </div>\n",
              "  "
            ]
          },
          "metadata": {},
          "execution_count": 34
        }
      ]
    },
    {
      "cell_type": "code",
      "source": [
        "df.price.mean()"
      ],
      "metadata": {
        "colab": {
          "base_uri": "https://localhost:8080/"
        },
        "id": "3pRuowYB7OCz",
        "outputId": "4b1a9f3a-73cf-455d-cabf-838a7f930fa2"
      },
      "execution_count": 35,
      "outputs": [
        {
          "output_type": "execute_result",
          "data": {
            "text/plain": [
              "40594.737032063116"
            ]
          },
          "metadata": {},
          "execution_count": 35
        }
      ]
    },
    {
      "cell_type": "code",
      "source": [
        "df[df['year'] >= 2015]['price'].mean()"
      ],
      "metadata": {
        "colab": {
          "base_uri": "https://localhost:8080/"
        },
        "id": "ohYz33Lu7RpR",
        "outputId": "09eb0742-6ee1-4845-e318-1ea58819ce5d"
      },
      "execution_count": 36,
      "outputs": [
        {
          "output_type": "execute_result",
          "data": {
            "text/plain": [
              "45667.156463719766"
            ]
          },
          "metadata": {},
          "execution_count": 36
        }
      ]
    },
    {
      "cell_type": "code",
      "source": [
        "df[df['year'] < 2015]['price'].mean()"
      ],
      "metadata": {
        "colab": {
          "base_uri": "https://localhost:8080/"
        },
        "id": "7tN3eeoi7Y4p",
        "outputId": "4ba183de-57fe-4342-e502-694188c18066"
      },
      "execution_count": 37,
      "outputs": [
        {
          "output_type": "execute_result",
          "data": {
            "text/plain": [
              "35457.18770062511"
            ]
          },
          "metadata": {},
          "execution_count": 37
        }
      ]
    },
    {
      "cell_type": "markdown",
      "metadata": {
        "id": "03TwrE4tEr25"
      },
      "source": [
        "# Validation framework"
      ]
    },
    {
      "cell_type": "markdown",
      "source": [
        "![](https://vitalflux.com/wp-content/uploads/2020/12/Hold-out-method-for-model-selection.png)\n",
        "\n",
        "image credit : https://vitalflux.com/hold-out-method-for-training-machine-learning-model/"
      ],
      "metadata": {
        "id": "RLZTIMnusuX4"
      }
    },
    {
      "cell_type": "code",
      "source": [
        "# the correlation between numerical features\n",
        "plt.figure(figsize=(15,8))\n",
        "_=sns.heatmap(df.corr(), annot = True)"
      ],
      "metadata": {
        "id": "7DhDqyI2kKSY",
        "outputId": "f08e06ab-7e50-4b5c-e687-fe32340f13d5",
        "colab": {
          "base_uri": "https://localhost:8080/",
          "height": 575
        }
      },
      "execution_count": 38,
      "outputs": [
        {
          "output_type": "display_data",
          "data": {
            "text/plain": [
              "<Figure size 1080x576 with 2 Axes>"
            ],
            "image/png": "[encoded data removed]"
          },
          "metadata": {
            "needs_background": "light"
          }
        }
      ]
    },
    {
      "cell_type": "code",
      "source": [
        "# Feature Engineering\n",
        "#Label Encoding\n",
        "\n",
        "\n",
        "le = LabelEncoder()\n",
        "cat_features = ['make','model','engine_fuel_type','transmission_type','driven_wheels','vehicle_size','vehicle_style']\n",
        "\n",
        "for i in cat_features:\n",
        "    df[i] = le.fit_transform(df[i])"
      ],
      "metadata": {
        "id": "6Rb7rTYPkKQj"
      },
      "execution_count": 39,
      "outputs": []
    },
    {
      "cell_type": "code",
      "source": [
        "# the correlation between all features\n",
        "plt.figure(figsize=(15,8))\n",
        "_=sns.heatmap(df.corr(), annot = True)"
      ],
      "metadata": {
        "id": "Zwl1ksbdkJzl",
        "outputId": "8573d68a-e030-49c1-f98a-4e751356100d",
        "colab": {
          "base_uri": "https://localhost:8080/",
          "height": 580
        }
      },
      "execution_count": 40,
      "outputs": [
        {
          "output_type": "display_data",
          "data": {
            "text/plain": [
              "<Figure size 1080x576 with 2 Axes>"
            ],
            "image/png": "[encoded data removed]"
          },
          "metadata": {
            "needs_background": "light"
          }
        }
      ]
    },
    {
      "cell_type": "markdown",
      "source": [
        "we have \n",
        "- 1) positive correlation \n",
        "- 2) Negative correlation \n",
        "\n",
        "\n",
        " - **year , engine_hp , engine_cylinders have the higher positive correlation with log_price**\n",
        "\n",
        "- **transimition_type , engine_fuel_type , driven_wheels have the higher Negative correlation with log_price**"
      ],
      "metadata": {
        "id": "-J2P6kIXnFZl"
      }
    },
    {
      "cell_type": "code",
      "source": [
        "df.head()"
      ],
      "metadata": {
        "id": "H6KlcDNJoYzm",
        "outputId": "c089917d-1ebd-43ff-a6a6-06751490fd17",
        "colab": {
          "base_uri": "https://localhost:8080/",
          "height": 270
        }
      },
      "execution_count": 41,
      "outputs": [
        {
          "output_type": "execute_result",
          "data": {
            "text/plain": [
              "   make  model  year  engine_fuel_type  engine_hp  engine_cylinders  \\\n",
              "0     5      4  2011                 8     335.00              6.00   \n",
              "1     5      3  2011                 8     300.00              6.00   \n",
              "2     5      3  2011                 8     300.00              6.00   \n",
              "3     5      3  2011                 8     230.00              6.00   \n",
              "4     5      3  2011                 8     230.00              6.00   \n",
              "\n",
              "   transmission_type  driven_wheels  number_of_doors  vehicle_size  \\\n",
              "0                  3              3             2.00             0   \n",
              "1                  3              3             2.00             0   \n",
              "2                  3              3             2.00             0   \n",
              "3                  3              3             2.00             0   \n",
              "4                  3              3             2.00             0   \n",
              "\n",
              "   vehicle_style  highway_mpg  city_mpg  popularity  price  log_price  \n",
              "0              8           26        19        3916  46135      10.74  \n",
              "1              6           28        19        3916  40650      10.61  \n",
              "2              8           28        20        3916  36350      10.50  \n",
              "3              8           28        18        3916  29450      10.29  \n",
              "4              6           28        18        3916  34500      10.45  "
            ],
            "text/html": [
              "\n",
              "  <div id=\"df-53aa6efd-9a1b-4538-89eb-ac7360c2ee4d\">\n",
              "    <div class=\"colab-df-container\">\n",
              "      <div>\n",
              "<style scoped>\n",
              "    .dataframe tbody tr th:only-of-type {\n",
              "        vertical-align: middle;\n",
              "    }\n",
              "\n",
              "    .dataframe tbody tr th {\n",
              "        vertical-align: top;\n",
              "    }\n",
              "\n",
              "    .dataframe thead th {\n",
              "        text-align: right;\n",
              "    }\n",
              "</style>\n",
              "<table border=\"1\" class=\"dataframe\">\n",
              "  <thead>\n",
              "    <tr style=\"text-align: right;\">\n",
              "      <th></th>\n",
              "      <th>make</th>\n",
              "      <th>model</th>\n",
              "      <th>year</th>\n",
              "      <th>engine_fuel_type</th>\n",
              "      <th>engine_hp</th>\n",
              "      <th>engine_cylinders</th>\n",
              "      <th>transmission_type</th>\n",
              "      <th>driven_wheels</th>\n",
              "      <th>number_of_doors</th>\n",
              "      <th>vehicle_size</th>\n",
              "      <th>vehicle_style</th>\n",
              "      <th>highway_mpg</th>\n",
              "      <th>city_mpg</th>\n",
              "      <th>popularity</th>\n",
              "      <th>price</th>\n",
              "      <th>log_price</th>\n",
              "    </tr>\n",
              "  </thead>\n",
              "  <tbody>\n",
              "    <tr>\n",
              "      <th>0</th>\n",
              "      <td>5</td>\n",
              "      <td>4</td>\n",
              "      <td>2011</td>\n",
              "      <td>8</td>\n",
              "      <td>335.00</td>\n",
              "      <td>6.00</td>\n",
              "      <td>3</td>\n",
              "      <td>3</td>\n",
              "      <td>2.00</td>\n",
              "      <td>0</td>\n",
              "      <td>8</td>\n",
              "      <td>26</td>\n",
              "      <td>19</td>\n",
              "      <td>3916</td>\n",
              "      <td>46135</td>\n",
              "      <td>10.74</td>\n",
              "    </tr>\n",
              "    <tr>\n",
              "      <th>1</th>\n",
              "      <td>5</td>\n",
              "      <td>3</td>\n",
              "      <td>2011</td>\n",
              "      <td>8</td>\n",
              "      <td>300.00</td>\n",
              "      <td>6.00</td>\n",
              "      <td>3</td>\n",
              "      <td>3</td>\n",
              "      <td>2.00</td>\n",
              "      <td>0</td>\n",
              "      <td>6</td>\n",
              "      <td>28</td>\n",
              "      <td>19</td>\n",
              "      <td>3916</td>\n",
              "      <td>40650</td>\n",
              "      <td>10.61</td>\n",
              "    </tr>\n",
              "    <tr>\n",
              "      <th>2</th>\n",
              "      <td>5</td>\n",
              "      <td>3</td>\n",
              "      <td>2011</td>\n",
              "      <td>8</td>\n",
              "      <td>300.00</td>\n",
              "      <td>6.00</td>\n",
              "      <td>3</td>\n",
              "      <td>3</td>\n",
              "      <td>2.00</td>\n",
              "      <td>0</td>\n",
              "      <td>8</td>\n",
              "      <td>28</td>\n",
              "      <td>20</td>\n",
              "      <td>3916</td>\n",
              "      <td>36350</td>\n",
              "      <td>10.50</td>\n",
              "    </tr>\n",
              "    <tr>\n",
              "      <th>3</th>\n",
              "      <td>5</td>\n",
              "      <td>3</td>\n",
              "      <td>2011</td>\n",
              "      <td>8</td>\n",
              "      <td>230.00</td>\n",
              "      <td>6.00</td>\n",
              "      <td>3</td>\n",
              "      <td>3</td>\n",
              "      <td>2.00</td>\n",
              "      <td>0</td>\n",
              "      <td>8</td>\n",
              "      <td>28</td>\n",
              "      <td>18</td>\n",
              "      <td>3916</td>\n",
              "      <td>29450</td>\n",
              "      <td>10.29</td>\n",
              "    </tr>\n",
              "    <tr>\n",
              "      <th>4</th>\n",
              "      <td>5</td>\n",
              "      <td>3</td>\n",
              "      <td>2011</td>\n",
              "      <td>8</td>\n",
              "      <td>230.00</td>\n",
              "      <td>6.00</td>\n",
              "      <td>3</td>\n",
              "      <td>3</td>\n",
              "      <td>2.00</td>\n",
              "      <td>0</td>\n",
              "      <td>6</td>\n",
              "      <td>28</td>\n",
              "      <td>18</td>\n",
              "      <td>3916</td>\n",
              "      <td>34500</td>\n",
              "      <td>10.45</td>\n",
              "    </tr>\n",
              "  </tbody>\n",
              "</table>\n",
              "</div>\n",
              "      <button class=\"colab-df-convert\" onclick=\"convertToInteractive('df-53aa6efd-9a1b-4538-89eb-ac7360c2ee4d')\"\n",
              "              title=\"Convert this dataframe to an interactive table.\"\n",
              "              style=\"display:none;\">\n",
              "        \n",
              "  <svg xmlns=\"http://www.w3.org/2000/svg\" height=\"24px\"viewBox=\"0 0 24 24\"\n",
              "       width=\"24px\">\n",
              "    <path d=\"M0 0h24v24H0V0z\" fill=\"none\"/>\n",
              "    <path d=\"M18.56 5.44l.94 2.06.94-2.06 2.06-.94-2.06-.94-.94-2.06-.94 2.06-2.06.94zm-11 1L8.5 8.5l.94-2.06 2.06-.94-2.06-.94L8.5 2.5l-.94 2.06-2.06.94zm10 10l.94 2.06.94-2.06 2.06-.94-2.06-.94-.94-2.06-.94 2.06-2.06.94z\"/><path d=\"M17.41 7.96l-1.37-1.37c-.4-.4-.92-.59-1.43-.59-.52 0-1.04.2-1.43.59L10.3 9.45l-7.72 7.72c-.78.78-.78 2.05 0 2.83L4 21.41c.39.39.9.59 1.41.59.51 0 1.02-.2 1.41-.59l7.78-7.78 2.81-2.81c.8-.78.8-2.07 0-2.86zM5.41 20L4 18.59l7.72-7.72 1.47 1.35L5.41 20z\"/>\n",
              "  </svg>\n",
              "      </button>\n",
              "      \n",
              "  <style>\n",
              "    .colab-df-container {\n",
              "      display:flex;\n",
              "      flex-wrap:wrap;\n",
              "      gap: 12px;\n",
              "    }\n",
              "\n",
              "    .colab-df-convert {\n",
              "      background-color: #E8F0FE;\n",
              "      border: none;\n",
              "      border-radius: 50%;\n",
              "      cursor: pointer;\n",
              "      display: none;\n",
              "      fill: #1967D2;\n",
              "      height: 32px;\n",
              "      padding: 0 0 0 0;\n",
              "      width: 32px;\n",
              "    }\n",
              "\n",
              "    .colab-df-convert:hover {\n",
              "      background-color: #E2EBFA;\n",
              "      box-shadow: 0px 1px 2px rgba(60, 64, 67, 0.3), 0px 1px 3px 1px rgba(60, 64, 67, 0.15);\n",
              "      fill: #174EA6;\n",
              "    }\n",
              "\n",
              "    [theme=dark] .colab-df-convert {\n",
              "      background-color: #3B4455;\n",
              "      fill: #D2E3FC;\n",
              "    }\n",
              "\n",
              "    [theme=dark] .colab-df-convert:hover {\n",
              "      background-color: #434B5C;\n",
              "      box-shadow: 0px 1px 3px 1px rgba(0, 0, 0, 0.15);\n",
              "      filter: drop-shadow(0px 1px 2px rgba(0, 0, 0, 0.3));\n",
              "      fill: #FFFFFF;\n",
              "    }\n",
              "  </style>\n",
              "\n",
              "      <script>\n",
              "        const buttonEl =\n",
              "          document.querySelector('#df-53aa6efd-9a1b-4538-89eb-ac7360c2ee4d button.colab-df-convert');\n",
              "        buttonEl.style.display =\n",
              "          google.colab.kernel.accessAllowed ? 'block' : 'none';\n",
              "\n",
              "        async function convertToInteractive(key) {\n",
              "          const element = document.querySelector('#df-53aa6efd-9a1b-4538-89eb-ac7360c2ee4d');\n",
              "          const dataTable =\n",
              "            await google.colab.kernel.invokeFunction('convertToInteractive',\n",
              "                                                     [key], {});\n",
              "          if (!dataTable) return;\n",
              "\n",
              "          const docLinkHtml = 'Like what you see? Visit the ' +\n",
              "            '<a target=\"_blank\" href=https://colab.research.google.com/notebooks/data_table.ipynb>data table notebook</a>'\n",
              "            + ' to learn more about interactive tables.';\n",
              "          element.innerHTML = '';\n",
              "          dataTable['output_type'] = 'display_data';\n",
              "          await google.colab.output.renderOutput(dataTable, element);\n",
              "          const docLink = document.createElement('div');\n",
              "          docLink.innerHTML = docLinkHtml;\n",
              "          element.appendChild(docLink);\n",
              "        }\n",
              "      </script>\n",
              "    </div>\n",
              "  </div>\n",
              "  "
            ]
          },
          "metadata": {},
          "execution_count": 41
        }
      ]
    },
    {
      "cell_type": "code",
      "source": [
        "X = df.drop(columns=['price','log_price'], axis=1)\n",
        "Y = df['price']"
      ],
      "metadata": {
        "id": "1684vWd-oYqx"
      },
      "execution_count": 42,
      "outputs": []
    },
    {
      "cell_type": "code",
      "source": [
        "print(X)"
      ],
      "metadata": {
        "id": "LtiebvlIoYoZ",
        "outputId": "b7aff623-0460-4063-edbc-1f81c3ebc908",
        "colab": {
          "base_uri": "https://localhost:8080/"
        }
      },
      "execution_count": 43,
      "outputs": [
        {
          "output_type": "stream",
          "name": "stdout",
          "text": [
            "       make  model  year  engine_fuel_type  engine_hp  engine_cylinders  \\\n",
            "0         5      4  2011                 8     335.00              6.00   \n",
            "1         5      3  2011                 8     300.00              6.00   \n",
            "2         5      3  2011                 8     300.00              6.00   \n",
            "3         5      3  2011                 8     230.00              6.00   \n",
            "4         5      3  2011                 8     230.00              6.00   \n",
            "...     ...    ...   ...               ...        ...               ...   \n",
            "11909     0    912  2012                 8     300.00              6.00   \n",
            "11910     0    912  2012                 8     300.00              6.00   \n",
            "11911     0    912  2012                 8     300.00              6.00   \n",
            "11912     0    912  2013                 7     300.00              6.00   \n",
            "11913    25    913  2006                 9     221.00              6.00   \n",
            "\n",
            "       transmission_type  driven_wheels  number_of_doors  vehicle_size  \\\n",
            "0                      3              3             2.00             0   \n",
            "1                      3              3             2.00             0   \n",
            "2                      3              3             2.00             0   \n",
            "3                      3              3             2.00             0   \n",
            "4                      3              3             2.00             0   \n",
            "...                  ...            ...              ...           ...   \n",
            "11909                  1              0             4.00             2   \n",
            "11910                  1              0             4.00             2   \n",
            "11911                  1              0             4.00             2   \n",
            "11912                  1              0             4.00             2   \n",
            "11913                  1              2             4.00             2   \n",
            "\n",
            "       vehicle_style  highway_mpg  city_mpg  popularity  \n",
            "0                  8           26        19        3916  \n",
            "1                  6           28        19        3916  \n",
            "2                  8           28        20        3916  \n",
            "3                  8           28        18        3916  \n",
            "4                  6           28        18        3916  \n",
            "...              ...          ...       ...         ...  \n",
            "11909              2           23        16         204  \n",
            "11910              2           23        16         204  \n",
            "11911              2           23        16         204  \n",
            "11912              2           23        16         204  \n",
            "11913             14           26        17          61  \n",
            "\n",
            "[11914 rows x 14 columns]\n"
          ]
        }
      ]
    },
    {
      "cell_type": "code",
      "source": [
        "print(Y)"
      ],
      "metadata": {
        "id": "rNEuZxSUoYl-",
        "outputId": "6a5baaf3-0097-495a-f485-9e7d25e70c84",
        "colab": {
          "base_uri": "https://localhost:8080/"
        }
      },
      "execution_count": 44,
      "outputs": [
        {
          "output_type": "stream",
          "name": "stdout",
          "text": [
            "0        46135\n",
            "1        40650\n",
            "2        36350\n",
            "3        29450\n",
            "4        34500\n",
            "         ...  \n",
            "11909    46120\n",
            "11910    56670\n",
            "11911    50620\n",
            "11912    50920\n",
            "11913    28995\n",
            "Name: price, Length: 11914, dtype: int64\n"
          ]
        }
      ]
    },
    {
      "cell_type": "markdown",
      "source": [
        "**Splitting the data into Training data & Testing Data**"
      ],
      "metadata": {
        "id": "p25N9nObqgIh"
      }
    },
    {
      "cell_type": "code",
      "source": [
        "X_train, X_test, Y_train, Y_test = train_test_split(X, Y, test_size=0.2, random_state=2)"
      ],
      "metadata": {
        "id": "hAJExpzkoYjZ"
      },
      "execution_count": 45,
      "outputs": []
    },
    {
      "cell_type": "code",
      "source": [
        "print(X.shape, X_train.shape, X_test.shape)"
      ],
      "metadata": {
        "id": "ygsolEV0oYgs",
        "outputId": "abd1ab86-44ab-4603-9e9d-9846e87b57f4",
        "colab": {
          "base_uri": "https://localhost:8080/"
        }
      },
      "execution_count": 46,
      "outputs": [
        {
          "output_type": "stream",
          "name": "stdout",
          "text": [
            "(11914, 14) (9531, 14) (2383, 14)\n"
          ]
        }
      ]
    },
    {
      "cell_type": "code",
      "source": [
        "print(Y.shape, Y_train.shape, Y_test.shape)"
      ],
      "metadata": {
        "id": "XTkhgAMc9NF7",
        "outputId": "add485d1-be07-403c-8af2-81d7da871a43",
        "colab": {
          "base_uri": "https://localhost:8080/"
        }
      },
      "execution_count": 47,
      "outputs": [
        {
          "output_type": "stream",
          "name": "stdout",
          "text": [
            "(11914,) (9531,) (2383,)\n"
          ]
        }
      ]
    },
    {
      "cell_type": "markdown",
      "metadata": {
        "id": "YdM8MF2UEr26"
      },
      "source": [
        "# Building Model"
      ]
    },
    {
      "cell_type": "markdown",
      "source": [
        "1) Linear regression"
      ],
      "metadata": {
        "id": "bc04-dAAmOnb"
      }
    },
    {
      "cell_type": "code",
      "source": [
        "LR = LinearRegression(normalize=True)\n",
        "LR.fit(X_train,Y_train)"
      ],
      "metadata": {
        "id": "o9DlNCoWmFBP",
        "outputId": "158f599a-7dd0-46ab-a219-affc661484e4",
        "colab": {
          "base_uri": "https://localhost:8080/"
        }
      },
      "execution_count": 48,
      "outputs": [
        {
          "output_type": "execute_result",
          "data": {
            "text/plain": [
              "LinearRegression(normalize=True)"
            ]
          },
          "metadata": {},
          "execution_count": 48
        }
      ]
    },
    {
      "cell_type": "code",
      "source": [
        "# prediction on training data\n",
        "training_data_prediction = LR.predict(X_train)"
      ],
      "metadata": {
        "id": "dTyd-Dm-mE-8"
      },
      "execution_count": 49,
      "outputs": []
    },
    {
      "cell_type": "code",
      "source": [
        "# R squared Value\n",
        "r2_train = metrics.r2_score(Y_train, training_data_prediction)\n",
        "print('R Squared value = ', r2_train *100, \"%\")"
      ],
      "metadata": {
        "id": "vcE2v-x2mE8H",
        "outputId": "ed4c33e0-7bc4-4a3e-8c1b-ddef5bc05df0",
        "colab": {
          "base_uri": "https://localhost:8080/"
        }
      },
      "execution_count": 50,
      "outputs": [
        {
          "output_type": "stream",
          "name": "stdout",
          "text": [
            "R Squared value =  49.404666541566264 %\n"
          ]
        }
      ]
    },
    {
      "cell_type": "code",
      "source": [
        "# prediction on test data\n",
        "test_data_prediction = LR.predict(X_test)"
      ],
      "metadata": {
        "id": "U6DztStzmE5Y"
      },
      "execution_count": 51,
      "outputs": []
    },
    {
      "cell_type": "code",
      "source": [
        "# R squared Value\n",
        "r2_test = metrics.r2_score(Y_test, test_data_prediction)\n",
        "print('R Squared value = ', r2_test *100, \"%\")"
      ],
      "metadata": {
        "id": "VRArUbvqmE2d",
        "outputId": "59af6e59-2c08-4e41-8258-69ae498943b3",
        "colab": {
          "base_uri": "https://localhost:8080/"
        }
      },
      "execution_count": 52,
      "outputs": [
        {
          "output_type": "stream",
          "name": "stdout",
          "text": [
            "R Squared value =  44.77022655248363 %\n"
          ]
        }
      ]
    },
    {
      "cell_type": "markdown",
      "source": [
        "**2) Random Forest Regressor**"
      ],
      "metadata": {
        "id": "p3vOfR8emngV"
      }
    },
    {
      "cell_type": "code",
      "source": [
        "RF= RandomForestRegressor(n_estimators=200,max_depth=5, min_samples_leaf=100,n_jobs=4,random_state=22)\n",
        "\n",
        "# Fitting the model on our trained dataset.\n",
        "RF.fit(X_train,Y_train)"
      ],
      "metadata": {
        "id": "Fs1uNa84mEzn",
        "outputId": "886067c9-8d8f-47dd-bc4f-87790e04735b",
        "colab": {
          "base_uri": "https://localhost:8080/"
        }
      },
      "execution_count": 53,
      "outputs": [
        {
          "output_type": "execute_result",
          "data": {
            "text/plain": [
              "RandomForestRegressor(max_depth=5, min_samples_leaf=100, n_estimators=200,\n",
              "                      n_jobs=4, random_state=22)"
            ]
          },
          "metadata": {},
          "execution_count": 53
        }
      ]
    },
    {
      "cell_type": "code",
      "source": [
        "# prediction on training data\n",
        "training_data_prediction = RF.predict(X_train)"
      ],
      "metadata": {
        "id": "RqfwlL0zmEte"
      },
      "execution_count": 54,
      "outputs": []
    },
    {
      "cell_type": "code",
      "source": [
        "# R squared Value\n",
        "r2_train = metrics.r2_score(Y_train, training_data_prediction)\n",
        "print('R Squared value = ', r2_train *100, \"%\")"
      ],
      "metadata": {
        "id": "LCyhucVcmEqn",
        "outputId": "c3e0263a-f8f9-4bf0-81ea-348cb42d48b0",
        "colab": {
          "base_uri": "https://localhost:8080/"
        }
      },
      "execution_count": 55,
      "outputs": [
        {
          "output_type": "stream",
          "name": "stdout",
          "text": [
            "R Squared value =  65.40070433613889 %\n"
          ]
        }
      ]
    },
    {
      "cell_type": "code",
      "source": [
        "# prediction on test data\n",
        "test_data_prediction = RF.predict(X_test)"
      ],
      "metadata": {
        "id": "Mkz-5Z3dmEn7"
      },
      "execution_count": 56,
      "outputs": []
    },
    {
      "cell_type": "code",
      "source": [
        "# R squared Value\n",
        "r2_test = metrics.r2_score(Y_test, test_data_prediction)\n",
        "print('R Squared value = ', r2_test *100, \"%\")"
      ],
      "metadata": {
        "id": "E-X10vuTmth4",
        "outputId": "de2f6fb1-5181-4103-8471-0da0e88c59ef",
        "colab": {
          "base_uri": "https://localhost:8080/"
        }
      },
      "execution_count": 57,
      "outputs": [
        {
          "output_type": "stream",
          "name": "stdout",
          "text": [
            "R Squared value =  58.02254361946373 %\n"
          ]
        }
      ]
    },
    {
      "cell_type": "markdown",
      "source": [
        "3) XG regressor"
      ],
      "metadata": {
        "id": "AobPlkEYnx0J"
      }
    },
    {
      "cell_type": "code",
      "source": [
        "regressor = XGBRegressor()\n",
        "regressor.fit(X_train, Y_train)"
      ],
      "metadata": {
        "id": "pEHIM6mMmtfE",
        "outputId": "7c1836ce-7420-4733-8605-cc1094d2931b",
        "colab": {
          "base_uri": "https://localhost:8080/"
        }
      },
      "execution_count": 58,
      "outputs": [
        {
          "output_type": "stream",
          "name": "stdout",
          "text": [
            "[17:43:53] WARNING: /workspace/src/objective/regression_obj.cu:152: reg:linear is now deprecated in favor of reg:squarederror.\n"
          ]
        },
        {
          "output_type": "execute_result",
          "data": {
            "text/plain": [
              "XGBRegressor()"
            ]
          },
          "metadata": {},
          "execution_count": 58
        }
      ]
    },
    {
      "cell_type": "code",
      "source": [
        "# prediction on training data\n",
        "training_data_prediction = regressor.predict(X_train)"
      ],
      "metadata": {
        "id": "6YfF9-g9mtci"
      },
      "execution_count": 59,
      "outputs": []
    },
    {
      "cell_type": "code",
      "source": [
        "# R squared Value\n",
        "r2_train = metrics.r2_score(Y_train, training_data_prediction)\n",
        "print('R Squared value = ', r2_train*100, \"%\")"
      ],
      "metadata": {
        "id": "k2n14jTQmtVM",
        "outputId": "92c790d7-80ed-4c8e-fcdc-bcf0a8d99de0",
        "colab": {
          "base_uri": "https://localhost:8080/"
        }
      },
      "execution_count": 60,
      "outputs": [
        {
          "output_type": "stream",
          "name": "stdout",
          "text": [
            "R Squared value =  95.4715234653237 %\n"
          ]
        }
      ]
    },
    {
      "cell_type": "code",
      "source": [
        "# prediction on test data\n",
        "test_data_prediction = regressor.predict(X_test)"
      ],
      "metadata": {
        "id": "Xp-75Ea6mtSm"
      },
      "execution_count": 61,
      "outputs": []
    },
    {
      "cell_type": "code",
      "source": [
        "# R squared Value\n",
        "r2_test = metrics.r2_score(Y_test, test_data_prediction)"
      ],
      "metadata": {
        "id": "OnIGel4en5iE"
      },
      "execution_count": 62,
      "outputs": []
    },
    {
      "cell_type": "code",
      "source": [
        "print('R Squared value = ', r2_test *100, \"%\")"
      ],
      "metadata": {
        "id": "yTRQ2fL-n5f3",
        "outputId": "79f54da9-35d4-4287-e37d-f8c6f54a8516",
        "colab": {
          "base_uri": "https://localhost:8080/"
        }
      },
      "execution_count": 63,
      "outputs": [
        {
          "output_type": "stream",
          "name": "stdout",
          "text": [
            "R Squared value =  82.66054347181998 %\n"
          ]
        }
      ]
    },
    {
      "cell_type": "markdown",
      "source": [
        "4)  Decision  Tree"
      ],
      "metadata": {
        "id": "6m3oP3ErBPxa"
      }
    },
    {
      "cell_type": "code",
      "source": [
        "# Decision Tree\n",
        "\n",
        "from sklearn.tree import DecisionTreeClassifier\n",
        "decision = DecisionTreeClassifier()\n",
        "decision.fit(X_train,Y_train)\n",
        "y_pred_dec = decision.predict(X_test)\n",
        "\n",
        "decision_accuracy = round(metrics.r2_score(y_pred_dec, Y_test) * 100)\n",
        "\n",
        "print(\"R Squared value =  :\",decision_accuracy ,\"%\")"
      ],
      "metadata": {
        "id": "LkG9nJpOn5dU",
        "outputId": "58922d13-7f77-4d27-b24e-8ba1123d972b",
        "colab": {
          "base_uri": "https://localhost:8080/"
        }
      },
      "execution_count": 64,
      "outputs": [
        {
          "output_type": "stream",
          "name": "stdout",
          "text": [
            "R Squared value =  : 83 %\n"
          ]
        }
      ]
    },
    {
      "cell_type": "markdown",
      "source": [
        "The highest accuracy is 82.66%% (XG regressor)."
      ],
      "metadata": {
        "id": "CryAugplBHAg"
      }
    },
    {
      "cell_type": "code",
      "source": [],
      "metadata": {
        "id": "G0R8iEWNBcf2"
      },
      "execution_count": 64,
      "outputs": []
    }
  ],
  "metadata": {
    "anaconda-cloud": {},
    "kernelspec": {
      "display_name": "Python 3",
      "language": "python",
      "name": "python3"
    },
    "language_info": {
      "codemirror_mode": {
        "name": "ipython",
        "version": 3
      },
      "file_extension": ".py",
      "mimetype": "text/x-python",
      "name": "python",
      "nbconvert_exporter": "python",
      "pygments_lexer": "ipython3",
      "version": "3.8.8"
    },
    "colab": {
      "provenance": [],
      "collapsed_sections": [],
      "include_colab_link": true
    }
  },
  "nbformat": 4,
  "nbformat_minor": 0
}